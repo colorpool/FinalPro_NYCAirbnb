{
 "cells": [
  {
   "cell_type": "code",
   "execution_count": 1,
   "metadata": {
    "ExecuteTime": {
     "end_time": "2023-12-11T22:14:57.032344800Z",
     "start_time": "2023-12-11T22:14:56.974899900Z"
    }
   },
   "outputs": [],
   "source": [
    "import folium as folium\n",
    "import numpy as np\n",
    "import pandas as pd\n",
    "import urllib\n",
    "import matplotlib.pyplot as plt\n",
    "import geopandas as gpd\n",
    "import matplotlib.image as mpimg\n",
    "%matplotlib inline\n",
    "import seaborn as sns\n",
    "from shapely.geometry import Point\n",
    "import warnings\n",
    "import folium\n",
    "from folium.plugins import HeatMap\n",
    "import scipy.stats as stats\n",
    "import matplotlib.pyplot as plt\n",
    "from sklearn import preprocessing\n",
    "from sklearn import linear_model\n",
    "from sklearn.metrics import r2_score\n",
    "from sklearn.metrics import mean_absolute_error, mean_squared_error\n",
    "from sklearn.linear_model import LinearRegression\n",
    "from sklearn.model_selection import train_test_split\n",
    "from sklearn import metrics\n",
    "import statsmodels.formula.api as smf\n",
    "\n",
    "warnings.filterwarnings('ignore')"
   ]
  },
  {
   "cell_type": "code",
   "execution_count": 2,
   "metadata": {
    "ExecuteTime": {
     "end_time": "2023-12-11T21:25:27.952578300Z",
     "start_time": "2023-12-11T21:25:27.170883700Z"
    },
    "jupyter": {
     "outputs_hidden": false
    }
   },
   "outputs": [
    {
     "data": {
      "text/html": [
       "<div>\n",
       "<style scoped>\n",
       "    .dataframe tbody tr th:only-of-type {\n",
       "        vertical-align: middle;\n",
       "    }\n",
       "\n",
       "    .dataframe tbody tr th {\n",
       "        vertical-align: top;\n",
       "    }\n",
       "\n",
       "    .dataframe thead th {\n",
       "        text-align: right;\n",
       "    }\n",
       "</style>\n",
       "<table border=\"1\" class=\"dataframe\">\n",
       "  <thead>\n",
       "    <tr style=\"text-align: right;\">\n",
       "      <th></th>\n",
       "      <th>id</th>\n",
       "      <th>name</th>\n",
       "      <th>host_id</th>\n",
       "      <th>host_name</th>\n",
       "      <th>neighbourhood_group</th>\n",
       "      <th>neighbourhood</th>\n",
       "      <th>latitude</th>\n",
       "      <th>longitude</th>\n",
       "      <th>room_type</th>\n",
       "      <th>price</th>\n",
       "      <th>minimum_nights</th>\n",
       "      <th>number_of_reviews</th>\n",
       "      <th>last_review</th>\n",
       "      <th>reviews_per_month</th>\n",
       "      <th>calculated_host_listings_count</th>\n",
       "      <th>availability_365</th>\n",
       "      <th>number_of_reviews_ltm</th>\n",
       "      <th>license</th>\n",
       "    </tr>\n",
       "  </thead>\n",
       "  <tbody>\n",
       "    <tr>\n",
       "      <th>0</th>\n",
       "      <td>2595</td>\n",
       "      <td>Rental unit in New York · ★4.68 · Studio · 1 b...</td>\n",
       "      <td>2845</td>\n",
       "      <td>Jennifer</td>\n",
       "      <td>Manhattan</td>\n",
       "      <td>Midtown</td>\n",
       "      <td>40.75356</td>\n",
       "      <td>-73.98559</td>\n",
       "      <td>Entire home/apt</td>\n",
       "      <td>240</td>\n",
       "      <td>30</td>\n",
       "      <td>49</td>\n",
       "      <td>2022-06-21</td>\n",
       "      <td>0.29</td>\n",
       "      <td>3</td>\n",
       "      <td>365</td>\n",
       "      <td>0</td>\n",
       "      <td>NaN</td>\n",
       "    </tr>\n",
       "    <tr>\n",
       "      <th>1</th>\n",
       "      <td>5121</td>\n",
       "      <td>Rental unit in Brooklyn · ★4.52 · 1 bedroom · ...</td>\n",
       "      <td>7356</td>\n",
       "      <td>Garon</td>\n",
       "      <td>Brooklyn</td>\n",
       "      <td>Bedford-Stuyvesant</td>\n",
       "      <td>40.68535</td>\n",
       "      <td>-73.95512</td>\n",
       "      <td>Private room</td>\n",
       "      <td>66</td>\n",
       "      <td>30</td>\n",
       "      <td>50</td>\n",
       "      <td>2019-12-02</td>\n",
       "      <td>0.28</td>\n",
       "      <td>2</td>\n",
       "      <td>120</td>\n",
       "      <td>0</td>\n",
       "      <td>NaN</td>\n",
       "    </tr>\n",
       "    <tr>\n",
       "      <th>2</th>\n",
       "      <td>9357</td>\n",
       "      <td>Rental unit in New York · ★4.52 · Studio · 1 b...</td>\n",
       "      <td>30193</td>\n",
       "      <td>Tommi</td>\n",
       "      <td>Manhattan</td>\n",
       "      <td>Hell's Kitchen</td>\n",
       "      <td>40.76724</td>\n",
       "      <td>-73.98664</td>\n",
       "      <td>Entire home/apt</td>\n",
       "      <td>175</td>\n",
       "      <td>45</td>\n",
       "      <td>58</td>\n",
       "      <td>2017-08-13</td>\n",
       "      <td>0.34</td>\n",
       "      <td>1</td>\n",
       "      <td>340</td>\n",
       "      <td>0</td>\n",
       "      <td>NaN</td>\n",
       "    </tr>\n",
       "    <tr>\n",
       "      <th>3</th>\n",
       "      <td>6848</td>\n",
       "      <td>Rental unit in Brooklyn · ★4.58 · 2 bedrooms ·...</td>\n",
       "      <td>15991</td>\n",
       "      <td>Allen &amp; Irina</td>\n",
       "      <td>Brooklyn</td>\n",
       "      <td>Williamsburg</td>\n",
       "      <td>40.70935</td>\n",
       "      <td>-73.95342</td>\n",
       "      <td>Entire home/apt</td>\n",
       "      <td>81</td>\n",
       "      <td>30</td>\n",
       "      <td>191</td>\n",
       "      <td>2023-08-14</td>\n",
       "      <td>1.09</td>\n",
       "      <td>1</td>\n",
       "      <td>110</td>\n",
       "      <td>5</td>\n",
       "      <td>NaN</td>\n",
       "    </tr>\n",
       "    <tr>\n",
       "      <th>4</th>\n",
       "      <td>10452</td>\n",
       "      <td>Rental unit in Brooklyn · ★4.65 · 1 bedroom · ...</td>\n",
       "      <td>35935</td>\n",
       "      <td>Angela</td>\n",
       "      <td>Brooklyn</td>\n",
       "      <td>Bedford-Stuyvesant</td>\n",
       "      <td>40.68294</td>\n",
       "      <td>-73.95682</td>\n",
       "      <td>Private room</td>\n",
       "      <td>90</td>\n",
       "      <td>30</td>\n",
       "      <td>80</td>\n",
       "      <td>2023-09-16</td>\n",
       "      <td>0.49</td>\n",
       "      <td>4</td>\n",
       "      <td>290</td>\n",
       "      <td>2</td>\n",
       "      <td>NaN</td>\n",
       "    </tr>\n",
       "  </tbody>\n",
       "</table>\n",
       "</div>"
      ],
      "text/plain": [
       "      id                                               name  host_id  \\\n",
       "0   2595  Rental unit in New York · ★4.68 · Studio · 1 b...     2845   \n",
       "1   5121  Rental unit in Brooklyn · ★4.52 · 1 bedroom · ...     7356   \n",
       "2   9357  Rental unit in New York · ★4.52 · Studio · 1 b...    30193   \n",
       "3   6848  Rental unit in Brooklyn · ★4.58 · 2 bedrooms ·...    15991   \n",
       "4  10452  Rental unit in Brooklyn · ★4.65 · 1 bedroom · ...    35935   \n",
       "\n",
       "       host_name neighbourhood_group       neighbourhood  latitude  longitude  \\\n",
       "0       Jennifer           Manhattan             Midtown  40.75356  -73.98559   \n",
       "1          Garon            Brooklyn  Bedford-Stuyvesant  40.68535  -73.95512   \n",
       "2          Tommi           Manhattan      Hell's Kitchen  40.76724  -73.98664   \n",
       "3  Allen & Irina            Brooklyn        Williamsburg  40.70935  -73.95342   \n",
       "4         Angela            Brooklyn  Bedford-Stuyvesant  40.68294  -73.95682   \n",
       "\n",
       "         room_type  price  minimum_nights  number_of_reviews last_review  \\\n",
       "0  Entire home/apt    240              30                 49  2022-06-21   \n",
       "1     Private room     66              30                 50  2019-12-02   \n",
       "2  Entire home/apt    175              45                 58  2017-08-13   \n",
       "3  Entire home/apt     81              30                191  2023-08-14   \n",
       "4     Private room     90              30                 80  2023-09-16   \n",
       "\n",
       "   reviews_per_month  calculated_host_listings_count  availability_365  \\\n",
       "0               0.29                               3               365   \n",
       "1               0.28                               2               120   \n",
       "2               0.34                               1               340   \n",
       "3               1.09                               1               110   \n",
       "4               0.49                               4               290   \n",
       "\n",
       "   number_of_reviews_ltm license  \n",
       "0                      0     NaN  \n",
       "1                      0     NaN  \n",
       "2                      0     NaN  \n",
       "3                      5     NaN  \n",
       "4                      2     NaN  "
      ]
     },
     "execution_count": 2,
     "metadata": {},
     "output_type": "execute_result"
    }
   ],
   "source": [
    "airbnb = pd.read_csv(\"Airbnb_NYC_2023_11.csv\")\n",
    "airbnb.head()"
   ]
  },
  {
   "cell_type": "code",
   "execution_count": 3,
   "metadata": {
    "ExecuteTime": {
     "end_time": "2023-12-11T21:25:28.351189700Z",
     "start_time": "2023-12-11T21:25:27.363587300Z"
    },
    "jupyter": {
     "outputs_hidden": false
    }
   },
   "outputs": [
    {
     "data": {
      "text/plain": [
       "39160"
      ]
     },
     "execution_count": 3,
     "metadata": {},
     "output_type": "execute_result"
    }
   ],
   "source": [
    "len(airbnb)"
   ]
  },
  {
   "cell_type": "code",
   "execution_count": 4,
   "metadata": {
    "ExecuteTime": {
     "end_time": "2023-12-11T21:25:28.352188900Z",
     "start_time": "2023-12-11T21:25:27.373925300Z"
    },
    "jupyter": {
     "outputs_hidden": false
    }
   },
   "outputs": [
    {
     "data": {
      "text/plain": [
       "id                                  int64\n",
       "name                               object\n",
       "host_id                             int64\n",
       "host_name                          object\n",
       "neighbourhood_group                object\n",
       "neighbourhood                      object\n",
       "latitude                          float64\n",
       "longitude                         float64\n",
       "room_type                          object\n",
       "price                               int64\n",
       "minimum_nights                      int64\n",
       "number_of_reviews                   int64\n",
       "last_review                        object\n",
       "reviews_per_month                 float64\n",
       "calculated_host_listings_count      int64\n",
       "availability_365                    int64\n",
       "number_of_reviews_ltm               int64\n",
       "license                            object\n",
       "dtype: object"
      ]
     },
     "execution_count": 4,
     "metadata": {},
     "output_type": "execute_result"
    }
   ],
   "source": [
    "airbnb.dtypes"
   ]
  },
  {
   "cell_type": "markdown",
   "metadata": {
    "jupyter": {
     "outputs_hidden": false
    }
   },
   "source": [
    "### 1 - Understand and clean data"
   ]
  },
  {
   "cell_type": "code",
   "execution_count": 5,
   "metadata": {
    "ExecuteTime": {
     "end_time": "2023-12-11T21:25:28.785040900Z",
     "start_time": "2023-12-11T21:25:27.381538Z"
    },
    "jupyter": {
     "outputs_hidden": false
    }
   },
   "outputs": [
    {
     "data": {
      "text/plain": [
       "id                                    0\n",
       "name                                  0\n",
       "host_id                               0\n",
       "host_name                             5\n",
       "neighbourhood_group                   0\n",
       "neighbourhood                         0\n",
       "latitude                              0\n",
       "longitude                             0\n",
       "room_type                             0\n",
       "price                                 0\n",
       "minimum_nights                        0\n",
       "number_of_reviews                     0\n",
       "last_review                       10949\n",
       "reviews_per_month                 10949\n",
       "calculated_host_listings_count        0\n",
       "availability_365                      0\n",
       "number_of_reviews_ltm                 0\n",
       "license                           35281\n",
       "dtype: int64"
      ]
     },
     "execution_count": 5,
     "metadata": {},
     "output_type": "execute_result"
    }
   ],
   "source": [
    "airbnb.isnull().sum()"
   ]
  },
  {
   "cell_type": "code",
   "execution_count": 6,
   "metadata": {
    "ExecuteTime": {
     "end_time": "2023-12-11T21:25:28.786040600Z",
     "start_time": "2023-12-11T21:25:27.402057Z"
    },
    "jupyter": {
     "outputs_hidden": false
    }
   },
   "outputs": [
    {
     "data": {
      "text/html": [
       "<div>\n",
       "<style scoped>\n",
       "    .dataframe tbody tr th:only-of-type {\n",
       "        vertical-align: middle;\n",
       "    }\n",
       "\n",
       "    .dataframe tbody tr th {\n",
       "        vertical-align: top;\n",
       "    }\n",
       "\n",
       "    .dataframe thead th {\n",
       "        text-align: right;\n",
       "    }\n",
       "</style>\n",
       "<table border=\"1\" class=\"dataframe\">\n",
       "  <thead>\n",
       "    <tr style=\"text-align: right;\">\n",
       "      <th></th>\n",
       "      <th>host_id</th>\n",
       "      <th>neighbourhood_group</th>\n",
       "      <th>neighbourhood</th>\n",
       "      <th>latitude</th>\n",
       "      <th>longitude</th>\n",
       "      <th>room_type</th>\n",
       "      <th>price</th>\n",
       "      <th>minimum_nights</th>\n",
       "      <th>number_of_reviews</th>\n",
       "      <th>reviews_per_month</th>\n",
       "      <th>calculated_host_listings_count</th>\n",
       "      <th>availability_365</th>\n",
       "      <th>number_of_reviews_ltm</th>\n",
       "    </tr>\n",
       "  </thead>\n",
       "  <tbody>\n",
       "    <tr>\n",
       "      <th>0</th>\n",
       "      <td>2845</td>\n",
       "      <td>Manhattan</td>\n",
       "      <td>Midtown</td>\n",
       "      <td>40.75356</td>\n",
       "      <td>-73.98559</td>\n",
       "      <td>Entire home/apt</td>\n",
       "      <td>240</td>\n",
       "      <td>30</td>\n",
       "      <td>49</td>\n",
       "      <td>0.29</td>\n",
       "      <td>3</td>\n",
       "      <td>365</td>\n",
       "      <td>0</td>\n",
       "    </tr>\n",
       "    <tr>\n",
       "      <th>1</th>\n",
       "      <td>7356</td>\n",
       "      <td>Brooklyn</td>\n",
       "      <td>Bedford-Stuyvesant</td>\n",
       "      <td>40.68535</td>\n",
       "      <td>-73.95512</td>\n",
       "      <td>Private room</td>\n",
       "      <td>66</td>\n",
       "      <td>30</td>\n",
       "      <td>50</td>\n",
       "      <td>0.28</td>\n",
       "      <td>2</td>\n",
       "      <td>120</td>\n",
       "      <td>0</td>\n",
       "    </tr>\n",
       "    <tr>\n",
       "      <th>2</th>\n",
       "      <td>30193</td>\n",
       "      <td>Manhattan</td>\n",
       "      <td>Hell's Kitchen</td>\n",
       "      <td>40.76724</td>\n",
       "      <td>-73.98664</td>\n",
       "      <td>Entire home/apt</td>\n",
       "      <td>175</td>\n",
       "      <td>45</td>\n",
       "      <td>58</td>\n",
       "      <td>0.34</td>\n",
       "      <td>1</td>\n",
       "      <td>340</td>\n",
       "      <td>0</td>\n",
       "    </tr>\n",
       "    <tr>\n",
       "      <th>3</th>\n",
       "      <td>15991</td>\n",
       "      <td>Brooklyn</td>\n",
       "      <td>Williamsburg</td>\n",
       "      <td>40.70935</td>\n",
       "      <td>-73.95342</td>\n",
       "      <td>Entire home/apt</td>\n",
       "      <td>81</td>\n",
       "      <td>30</td>\n",
       "      <td>191</td>\n",
       "      <td>1.09</td>\n",
       "      <td>1</td>\n",
       "      <td>110</td>\n",
       "      <td>5</td>\n",
       "    </tr>\n",
       "    <tr>\n",
       "      <th>4</th>\n",
       "      <td>35935</td>\n",
       "      <td>Brooklyn</td>\n",
       "      <td>Bedford-Stuyvesant</td>\n",
       "      <td>40.68294</td>\n",
       "      <td>-73.95682</td>\n",
       "      <td>Private room</td>\n",
       "      <td>90</td>\n",
       "      <td>30</td>\n",
       "      <td>80</td>\n",
       "      <td>0.49</td>\n",
       "      <td>4</td>\n",
       "      <td>290</td>\n",
       "      <td>2</td>\n",
       "    </tr>\n",
       "  </tbody>\n",
       "</table>\n",
       "</div>"
      ],
      "text/plain": [
       "   host_id neighbourhood_group       neighbourhood  latitude  longitude  \\\n",
       "0     2845           Manhattan             Midtown  40.75356  -73.98559   \n",
       "1     7356            Brooklyn  Bedford-Stuyvesant  40.68535  -73.95512   \n",
       "2    30193           Manhattan      Hell's Kitchen  40.76724  -73.98664   \n",
       "3    15991            Brooklyn        Williamsburg  40.70935  -73.95342   \n",
       "4    35935            Brooklyn  Bedford-Stuyvesant  40.68294  -73.95682   \n",
       "\n",
       "         room_type  price  minimum_nights  number_of_reviews  \\\n",
       "0  Entire home/apt    240              30                 49   \n",
       "1     Private room     66              30                 50   \n",
       "2  Entire home/apt    175              45                 58   \n",
       "3  Entire home/apt     81              30                191   \n",
       "4     Private room     90              30                 80   \n",
       "\n",
       "   reviews_per_month  calculated_host_listings_count  availability_365  \\\n",
       "0               0.29                               3               365   \n",
       "1               0.28                               2               120   \n",
       "2               0.34                               1               340   \n",
       "3               1.09                               1               110   \n",
       "4               0.49                               4               290   \n",
       "\n",
       "   number_of_reviews_ltm  \n",
       "0                      0  \n",
       "1                      0  \n",
       "2                      0  \n",
       "3                      5  \n",
       "4                      2  "
      ]
     },
     "execution_count": 6,
     "metadata": {},
     "output_type": "execute_result"
    }
   ],
   "source": [
    "airbnb.drop(['id', 'name', 'host_name', 'last_review', 'license'], axis=1, inplace=True)\n",
    "airbnb.head()"
   ]
  },
  {
   "cell_type": "code",
   "execution_count": 7,
   "metadata": {
    "ExecuteTime": {
     "end_time": "2023-12-11T21:25:29.280458200Z",
     "start_time": "2023-12-11T21:25:27.920926700Z"
    },
    "jupyter": {
     "outputs_hidden": false
    }
   },
   "outputs": [
    {
     "data": {
      "text/plain": [
       "0"
      ]
     },
     "execution_count": 7,
     "metadata": {},
     "output_type": "execute_result"
    }
   ],
   "source": [
    "airbnb.fillna({'reviews_per_month': 0}, inplace=True)\n",
    "\n",
    "airbnb.reviews_per_month.isnull().sum()"
   ]
  },
  {
   "cell_type": "code",
   "execution_count": 8,
   "metadata": {
    "ExecuteTime": {
     "end_time": "2023-12-11T21:25:29.365460700Z",
     "start_time": "2023-12-11T21:25:28.303576Z"
    },
    "jupyter": {
     "outputs_hidden": false
    }
   },
   "outputs": [
    {
     "data": {
      "text/plain": [
       "array(['Manhattan', 'Brooklyn', 'Queens', 'Bronx', 'Staten Island'],\n",
       "      dtype=object)"
      ]
     },
     "execution_count": 8,
     "metadata": {},
     "output_type": "execute_result"
    }
   ],
   "source": [
    "airbnb.neighbourhood_group.unique()"
   ]
  },
  {
   "cell_type": "code",
   "execution_count": 9,
   "metadata": {
    "ExecuteTime": {
     "end_time": "2023-12-11T21:25:29.414459100Z",
     "start_time": "2023-12-11T21:25:28.326363600Z"
    },
    "jupyter": {
     "outputs_hidden": false
    }
   },
   "outputs": [
    {
     "data": {
      "text/plain": [
       "223"
      ]
     },
     "execution_count": 9,
     "metadata": {},
     "output_type": "execute_result"
    }
   ],
   "source": [
    "len(airbnb.neighbourhood.unique())"
   ]
  },
  {
   "cell_type": "code",
   "execution_count": 10,
   "metadata": {
    "ExecuteTime": {
     "end_time": "2023-12-11T21:25:29.478532400Z",
     "start_time": "2023-12-11T21:25:28.716193800Z"
    },
    "jupyter": {
     "outputs_hidden": false
    },
    "scrolled": true
   },
   "outputs": [
    {
     "data": {
      "text/html": [
       "<div>\n",
       "<style scoped>\n",
       "    .dataframe tbody tr th:only-of-type {\n",
       "        vertical-align: middle;\n",
       "    }\n",
       "\n",
       "    .dataframe tbody tr th {\n",
       "        vertical-align: top;\n",
       "    }\n",
       "\n",
       "    .dataframe thead th {\n",
       "        text-align: right;\n",
       "    }\n",
       "</style>\n",
       "<table border=\"1\" class=\"dataframe\">\n",
       "  <thead>\n",
       "    <tr style=\"text-align: right;\">\n",
       "      <th></th>\n",
       "      <th>host_id</th>\n",
       "      <th>latitude</th>\n",
       "      <th>longitude</th>\n",
       "      <th>price</th>\n",
       "      <th>minimum_nights</th>\n",
       "      <th>number_of_reviews</th>\n",
       "      <th>reviews_per_month</th>\n",
       "      <th>calculated_host_listings_count</th>\n",
       "      <th>availability_365</th>\n",
       "      <th>number_of_reviews_ltm</th>\n",
       "    </tr>\n",
       "  </thead>\n",
       "  <tbody>\n",
       "    <tr>\n",
       "      <th>count</th>\n",
       "      <td>3.916000e+04</td>\n",
       "      <td>39160.000000</td>\n",
       "      <td>39160.000000</td>\n",
       "      <td>39160.000000</td>\n",
       "      <td>39160.000000</td>\n",
       "      <td>39160.000000</td>\n",
       "      <td>39160.000000</td>\n",
       "      <td>39160.000000</td>\n",
       "      <td>39160.000000</td>\n",
       "      <td>39160.000000</td>\n",
       "    </tr>\n",
       "    <tr>\n",
       "      <th>mean</th>\n",
       "      <td>1.575643e+08</td>\n",
       "      <td>40.729372</td>\n",
       "      <td>-73.945897</td>\n",
       "      <td>205.995480</td>\n",
       "      <td>30.272165</td>\n",
       "      <td>25.584397</td>\n",
       "      <td>0.770732</td>\n",
       "      <td>39.493105</td>\n",
       "      <td>153.915628</td>\n",
       "      <td>6.735674</td>\n",
       "    </tr>\n",
       "    <tr>\n",
       "      <th>std</th>\n",
       "      <td>1.693066e+08</td>\n",
       "      <td>0.056645</td>\n",
       "      <td>0.054958</td>\n",
       "      <td>466.662167</td>\n",
       "      <td>26.534306</td>\n",
       "      <td>57.488642</td>\n",
       "      <td>1.545545</td>\n",
       "      <td>117.040976</td>\n",
       "      <td>144.305706</td>\n",
       "      <td>17.023977</td>\n",
       "    </tr>\n",
       "    <tr>\n",
       "      <th>min</th>\n",
       "      <td>1.678000e+03</td>\n",
       "      <td>40.500314</td>\n",
       "      <td>-74.251907</td>\n",
       "      <td>0.000000</td>\n",
       "      <td>1.000000</td>\n",
       "      <td>0.000000</td>\n",
       "      <td>0.000000</td>\n",
       "      <td>1.000000</td>\n",
       "      <td>0.000000</td>\n",
       "      <td>0.000000</td>\n",
       "    </tr>\n",
       "    <tr>\n",
       "      <th>25%</th>\n",
       "      <td>1.654341e+07</td>\n",
       "      <td>40.688880</td>\n",
       "      <td>-73.982819</td>\n",
       "      <td>76.000000</td>\n",
       "      <td>30.000000</td>\n",
       "      <td>0.000000</td>\n",
       "      <td>0.000000</td>\n",
       "      <td>1.000000</td>\n",
       "      <td>0.000000</td>\n",
       "      <td>0.000000</td>\n",
       "    </tr>\n",
       "    <tr>\n",
       "      <th>50%</th>\n",
       "      <td>7.831966e+07</td>\n",
       "      <td>40.726470</td>\n",
       "      <td>-73.953960</td>\n",
       "      <td>130.000000</td>\n",
       "      <td>30.000000</td>\n",
       "      <td>4.000000</td>\n",
       "      <td>0.160000</td>\n",
       "      <td>1.000000</td>\n",
       "      <td>130.000000</td>\n",
       "      <td>0.000000</td>\n",
       "    </tr>\n",
       "    <tr>\n",
       "      <th>75%</th>\n",
       "      <td>2.783108e+08</td>\n",
       "      <td>40.762632</td>\n",
       "      <td>-73.926260</td>\n",
       "      <td>220.000000</td>\n",
       "      <td>30.000000</td>\n",
       "      <td>23.000000</td>\n",
       "      <td>0.930000</td>\n",
       "      <td>6.000000</td>\n",
       "      <td>309.000000</td>\n",
       "      <td>5.000000</td>\n",
       "    </tr>\n",
       "    <tr>\n",
       "      <th>max</th>\n",
       "      <td>5.442621e+08</td>\n",
       "      <td>40.911380</td>\n",
       "      <td>-73.713650</td>\n",
       "      <td>30000.000000</td>\n",
       "      <td>1250.000000</td>\n",
       "      <td>1854.000000</td>\n",
       "      <td>73.720000</td>\n",
       "      <td>647.000000</td>\n",
       "      <td>365.000000</td>\n",
       "      <td>900.000000</td>\n",
       "    </tr>\n",
       "  </tbody>\n",
       "</table>\n",
       "</div>"
      ],
      "text/plain": [
       "            host_id      latitude     longitude         price  minimum_nights  \\\n",
       "count  3.916000e+04  39160.000000  39160.000000  39160.000000    39160.000000   \n",
       "mean   1.575643e+08     40.729372    -73.945897    205.995480       30.272165   \n",
       "std    1.693066e+08      0.056645      0.054958    466.662167       26.534306   \n",
       "min    1.678000e+03     40.500314    -74.251907      0.000000        1.000000   \n",
       "25%    1.654341e+07     40.688880    -73.982819     76.000000       30.000000   \n",
       "50%    7.831966e+07     40.726470    -73.953960    130.000000       30.000000   \n",
       "75%    2.783108e+08     40.762632    -73.926260    220.000000       30.000000   \n",
       "max    5.442621e+08     40.911380    -73.713650  30000.000000     1250.000000   \n",
       "\n",
       "       number_of_reviews  reviews_per_month  calculated_host_listings_count  \\\n",
       "count       39160.000000       39160.000000                    39160.000000   \n",
       "mean           25.584397           0.770732                       39.493105   \n",
       "std            57.488642           1.545545                      117.040976   \n",
       "min             0.000000           0.000000                        1.000000   \n",
       "25%             0.000000           0.000000                        1.000000   \n",
       "50%             4.000000           0.160000                        1.000000   \n",
       "75%            23.000000           0.930000                        6.000000   \n",
       "max          1854.000000          73.720000                      647.000000   \n",
       "\n",
       "       availability_365  number_of_reviews_ltm  \n",
       "count      39160.000000           39160.000000  \n",
       "mean         153.915628               6.735674  \n",
       "std          144.305706              17.023977  \n",
       "min            0.000000               0.000000  \n",
       "25%            0.000000               0.000000  \n",
       "50%          130.000000               0.000000  \n",
       "75%          309.000000               5.000000  \n",
       "max          365.000000             900.000000  "
      ]
     },
     "execution_count": 10,
     "metadata": {},
     "output_type": "execute_result"
    }
   ],
   "source": [
    "airbnb.describe()"
   ]
  },
  {
   "cell_type": "markdown",
   "metadata": {},
   "source": [
    "## add zipcode"
   ]
  },
  {
   "cell_type": "code",
   "execution_count": 11,
   "metadata": {
    "ExecuteTime": {
     "end_time": "2023-12-11T21:25:29.547545900Z",
     "start_time": "2023-12-11T21:25:28.763039800Z"
    }
   },
   "outputs": [
    {
     "ename": "ImportError",
     "evalue": "The 'read_file' function requires the 'pyogrio' or 'fiona' package, but neither is installed or imports correctly.\nImporting fiona resulted in: dlopen(/Users/j/anaconda3/lib/python3.11/site-packages/fiona/_env.cpython-311-darwin.so, 0x0002): Library not loaded: @rpath/libtiff.5.dylib\n  Referenced from: <6C3EA127-A5C5-336C-9074-979EE3DACC52> /Users/j/anaconda3/lib/libpoppler.126.0.0.dylib\n  Reason: tried: '/Users/j/anaconda3/lib/libtiff.5.dylib' (no such file), '/Users/j/anaconda3/lib/libtiff.5.dylib' (no such file), '/Users/j/anaconda3/lib/python3.11/site-packages/fiona/../../../libtiff.5.dylib' (no such file), '/Users/j/anaconda3/lib/python3.11/site-packages/fiona/../../../libtiff.5.dylib' (no such file), '/Users/j/anaconda3/bin/../lib/libtiff.5.dylib' (no such file), '/Users/j/anaconda3/bin/../lib/libtiff.5.dylib' (no such file), '/usr/local/lib/libtiff.5.dylib' (no such file), '/usr/lib/libtiff.5.dylib' (no such file, not in dyld cache)\nImporting pyogrio resulted in: No module named 'pyogrio'",
     "output_type": "error",
     "traceback": [
      "\u001b[0;31m---------------------------------------------------------------------------\u001b[0m",
      "\u001b[0;31mImportError\u001b[0m                               Traceback (most recent call last)",
      "Cell \u001b[0;32mIn[11], line 1\u001b[0m\n\u001b[0;32m----> 1\u001b[0m zipcode \u001b[38;5;241m=\u001b[39m gpd\u001b[38;5;241m.\u001b[39mread_file(\u001b[38;5;124m'\u001b[39m\u001b[38;5;124m./ZIPCODE/ZIP_CODE_040114.shp\u001b[39m\u001b[38;5;124m'\u001b[39m)\n\u001b[1;32m      2\u001b[0m zipcode[\u001b[38;5;124m'\u001b[39m\u001b[38;5;124mgeometry\u001b[39m\u001b[38;5;124m'\u001b[39m][\u001b[38;5;241m0\u001b[39m]\n",
      "File \u001b[0;32m~/anaconda3/lib/python3.11/site-packages/geopandas/io/file.py:271\u001b[0m, in \u001b[0;36m_read_file\u001b[0;34m(filename, bbox, mask, rows, engine, **kwargs)\u001b[0m\n\u001b[1;32m    181\u001b[0m \u001b[38;5;28;01mdef\u001b[39;00m \u001b[38;5;21m_read_file\u001b[39m(filename, bbox\u001b[38;5;241m=\u001b[39m\u001b[38;5;28;01mNone\u001b[39;00m, mask\u001b[38;5;241m=\u001b[39m\u001b[38;5;28;01mNone\u001b[39;00m, rows\u001b[38;5;241m=\u001b[39m\u001b[38;5;28;01mNone\u001b[39;00m, engine\u001b[38;5;241m=\u001b[39m\u001b[38;5;28;01mNone\u001b[39;00m, \u001b[38;5;241m*\u001b[39m\u001b[38;5;241m*\u001b[39mkwargs):\n\u001b[1;32m    182\u001b[0m \u001b[38;5;250m    \u001b[39m\u001b[38;5;124;03m\"\"\"\u001b[39;00m\n\u001b[1;32m    183\u001b[0m \u001b[38;5;124;03m    Returns a GeoDataFrame from a file or URL.\u001b[39;00m\n\u001b[1;32m    184\u001b[0m \n\u001b[0;32m   (...)\u001b[0m\n\u001b[1;32m    269\u001b[0m \n\u001b[1;32m    270\u001b[0m \u001b[38;5;124;03m    \"\"\"\u001b[39;00m\n\u001b[0;32m--> 271\u001b[0m     engine \u001b[38;5;241m=\u001b[39m _check_engine(engine, \u001b[38;5;124m\"\u001b[39m\u001b[38;5;124m'\u001b[39m\u001b[38;5;124mread_file\u001b[39m\u001b[38;5;124m'\u001b[39m\u001b[38;5;124m function\u001b[39m\u001b[38;5;124m\"\u001b[39m)\n\u001b[1;32m    273\u001b[0m     filename \u001b[38;5;241m=\u001b[39m _expand_user(filename)\n\u001b[1;32m    275\u001b[0m     from_bytes \u001b[38;5;241m=\u001b[39m \u001b[38;5;28;01mFalse\u001b[39;00m\n",
      "File \u001b[0;32m~/anaconda3/lib/python3.11/site-packages/geopandas/io/file.py:120\u001b[0m, in \u001b[0;36m_check_engine\u001b[0;34m(engine, func)\u001b[0m\n\u001b[1;32m    118\u001b[0m     _check_pyogrio(func)\n\u001b[1;32m    119\u001b[0m \u001b[38;5;28;01melif\u001b[39;00m engine \u001b[38;5;129;01mis\u001b[39;00m \u001b[38;5;28;01mNone\u001b[39;00m:\n\u001b[0;32m--> 120\u001b[0m     \u001b[38;5;28;01mraise\u001b[39;00m \u001b[38;5;167;01mImportError\u001b[39;00m(\n\u001b[1;32m    121\u001b[0m         \u001b[38;5;124mf\u001b[39m\u001b[38;5;124m\"\u001b[39m\u001b[38;5;124mThe \u001b[39m\u001b[38;5;132;01m{\u001b[39;00mfunc\u001b[38;5;132;01m}\u001b[39;00m\u001b[38;5;124m requires the \u001b[39m\u001b[38;5;124m'\u001b[39m\u001b[38;5;124mpyogrio\u001b[39m\u001b[38;5;124m'\u001b[39m\u001b[38;5;124m or \u001b[39m\u001b[38;5;124m'\u001b[39m\u001b[38;5;124mfiona\u001b[39m\u001b[38;5;124m'\u001b[39m\u001b[38;5;124m package, \u001b[39m\u001b[38;5;124m\"\u001b[39m\n\u001b[1;32m    122\u001b[0m         \u001b[38;5;124m\"\u001b[39m\u001b[38;5;124mbut neither is installed or imports correctly.\u001b[39m\u001b[38;5;124m\"\u001b[39m\n\u001b[1;32m    123\u001b[0m         \u001b[38;5;124mf\u001b[39m\u001b[38;5;124m\"\u001b[39m\u001b[38;5;130;01m\\n\u001b[39;00m\u001b[38;5;124mImporting fiona resulted in: \u001b[39m\u001b[38;5;132;01m{\u001b[39;00mfiona_import_error\u001b[38;5;132;01m}\u001b[39;00m\u001b[38;5;124m\"\u001b[39m\n\u001b[1;32m    124\u001b[0m         \u001b[38;5;124mf\u001b[39m\u001b[38;5;124m\"\u001b[39m\u001b[38;5;130;01m\\n\u001b[39;00m\u001b[38;5;124mImporting pyogrio resulted in: \u001b[39m\u001b[38;5;132;01m{\u001b[39;00mpyogrio_import_error\u001b[38;5;132;01m}\u001b[39;00m\u001b[38;5;124m\"\u001b[39m\n\u001b[1;32m    125\u001b[0m     )\n\u001b[1;32m    127\u001b[0m \u001b[38;5;28;01mreturn\u001b[39;00m engine\n",
      "\u001b[0;31mImportError\u001b[0m: The 'read_file' function requires the 'pyogrio' or 'fiona' package, but neither is installed or imports correctly.\nImporting fiona resulted in: dlopen(/Users/j/anaconda3/lib/python3.11/site-packages/fiona/_env.cpython-311-darwin.so, 0x0002): Library not loaded: @rpath/libtiff.5.dylib\n  Referenced from: <6C3EA127-A5C5-336C-9074-979EE3DACC52> /Users/j/anaconda3/lib/libpoppler.126.0.0.dylib\n  Reason: tried: '/Users/j/anaconda3/lib/libtiff.5.dylib' (no such file), '/Users/j/anaconda3/lib/libtiff.5.dylib' (no such file), '/Users/j/anaconda3/lib/python3.11/site-packages/fiona/../../../libtiff.5.dylib' (no such file), '/Users/j/anaconda3/lib/python3.11/site-packages/fiona/../../../libtiff.5.dylib' (no such file), '/Users/j/anaconda3/bin/../lib/libtiff.5.dylib' (no such file), '/Users/j/anaconda3/bin/../lib/libtiff.5.dylib' (no such file), '/usr/local/lib/libtiff.5.dylib' (no such file), '/usr/lib/libtiff.5.dylib' (no such file, not in dyld cache)\nImporting pyogrio resulted in: No module named 'pyogrio'"
     ]
    }
   ],
   "source": [
    "zipcode = gpd.read_file('./ZIPCODE/ZIP_CODE_040114.shp')\n",
    "zipcode['geometry'][0]"
   ]
  },
  {
   "cell_type": "code",
   "execution_count": null,
   "metadata": {
    "ExecuteTime": {
     "end_time": "2023-12-11T21:25:29.719564100Z",
     "start_time": "2023-12-11T21:25:29.222666400Z"
    }
   },
   "outputs": [],
   "source": [
    "airbnb_gdf = gpd.GeoDataFrame(\n",
    "    airbnb,\n",
    "    geometry=gpd.points_from_xy(airbnb.longitude, airbnb.latitude),\n",
    "    crs=\"EPSG:4326\"\n",
    ")"
   ]
  },
  {
   "cell_type": "code",
   "execution_count": null,
   "metadata": {
    "ExecuteTime": {
     "end_time": "2023-12-11T21:25:29.753527300Z",
     "start_time": "2023-12-11T21:25:29.262462400Z"
    }
   },
   "outputs": [],
   "source": [
    "airbnb_gdf = airbnb_gdf.to_crs(zipcode.crs)"
   ]
  },
  {
   "cell_type": "code",
   "execution_count": null,
   "metadata": {
    "ExecuteTime": {
     "end_time": "2023-12-11T20:42:33.798905100Z",
     "start_time": "2023-12-11T20:42:33.617231800Z"
    },
    "scrolled": true
   },
   "outputs": [],
   "source": [
    "joined_gdf = gpd.sjoin(airbnb_gdf, zipcode, how=\"left\", op=\"within\")\n",
    "joined_gdf['ZIPCODE']"
   ]
  },
  {
   "cell_type": "code",
   "execution_count": null,
   "metadata": {
    "ExecuteTime": {
     "end_time": "2023-12-11T20:42:42.109580600Z",
     "start_time": "2023-12-11T20:42:34.419513700Z"
    }
   },
   "outputs": [],
   "source": [
    "unique_zipcodes = joined_gdf.reset_index().groupby('index').first()\n",
    "airbnb_with_zip = airbnb.merge(unique_zipcodes[['ZIPCODE']], left_index=True, right_index=True, how='left')\n",
    "len(airbnb_with_zip)"
   ]
  },
  {
   "cell_type": "code",
   "execution_count": null,
   "metadata": {
    "ExecuteTime": {
     "end_time": "2023-12-11T20:42:42.124510600Z",
     "start_time": "2023-12-11T20:42:42.109580600Z"
    }
   },
   "outputs": [],
   "source": [
    "airbnb_with_zip"
   ]
  },
  {
   "cell_type": "markdown",
   "metadata": {
    "jupyter": {
     "outputs_hidden": false
    }
   },
   "source": [
    "### 2 - Exploring and Visualizing Data"
   ]
  },
  {
   "cell_type": "code",
   "execution_count": null,
   "metadata": {
    "ExecuteTime": {
     "end_time": "2023-12-11T20:42:44.720732400Z",
     "start_time": "2023-12-11T20:42:44.686088800Z"
    },
    "jupyter": {
     "outputs_hidden": false
    }
   },
   "outputs": [],
   "source": [
    "top_host = airbnb.host_id.value_counts().head(10)\n",
    "top_host"
   ]
  },
  {
   "cell_type": "code",
   "execution_count": null,
   "metadata": {
    "ExecuteTime": {
     "end_time": "2023-12-11T20:42:45.393860800Z",
     "start_time": "2023-12-11T20:42:45.288889100Z"
    },
    "jupyter": {
     "outputs_hidden": false
    }
   },
   "outputs": [],
   "source": [
    "top_host_check = airbnb.calculated_host_listings_count.max()\n",
    "top_host_check"
   ]
  },
  {
   "cell_type": "code",
   "execution_count": null,
   "metadata": {
    "ExecuteTime": {
     "end_time": "2023-12-11T20:42:47.151499200Z",
     "start_time": "2023-12-11T20:42:46.353173200Z"
    },
    "jupyter": {
     "outputs_hidden": false
    }
   },
   "outputs": [],
   "source": [
    "sns.set_style(\"whitegrid\")\n",
    "plt.figure(figsize=(10, 6))\n",
    "ax = plt.axes()\n",
    "airbnb[\"host_id\"].value_counts().head().sort_values().plot(kind=\"barh\",\n",
    "                                                           color=\"teal\",\n",
    "                                                           hatch=\"/\",\n",
    "                                                           edgecolor=\"beige\")\n",
    "ax.bar_label(ax.containers[0], fmt='%.0f', color=\"black\", fontsize=12)\n",
    "plt.xlabel(\"Number of Posts\", size=14)\n",
    "plt.ylabel(\"Host ID\", size=14)\n",
    "plt.title(\"Top 5 Hosts With Most Posts\", size=18)"
   ]
  },
  {
   "cell_type": "code",
   "execution_count": null,
   "metadata": {
    "ExecuteTime": {
     "end_time": "2023-12-11T20:42:47.543595800Z",
     "start_time": "2023-12-11T20:42:47.119501Z"
    },
    "jupyter": {
     "outputs_hidden": false
    }
   },
   "outputs": [],
   "source": [
    "sns.set_style(\"whitegrid\")\n",
    "plt.figure(figsize=(10, 6))\n",
    "ax = plt.axes()\n",
    "airbnb.loc[airbnb['host_id'] == 219517861][\"neighbourhood\"].value_counts().plot(kind=\"bar\", color=\"teal\", hatch=\"/\",\n",
    "                                                                                edgecolor=\"beige\")\n",
    "ax.bar_label(ax.containers[0], fmt='%.0f', color=\"black\", fontsize=12)\n",
    "plt.xlabel(\"Neighbourhood\", size=14)\n",
    "plt.ylabel(\"Number of Posts\", size=14)\n",
    "plt.title('Neighborhoods with the Most Posts by \"host 219517861\"', size=18)\n",
    "plt.show()"
   ]
  },
  {
   "cell_type": "code",
   "execution_count": null,
   "metadata": {
    "ExecuteTime": {
     "end_time": "2023-12-11T20:42:49.059492600Z",
     "start_time": "2023-12-11T20:42:48.067766200Z"
    },
    "jupyter": {
     "outputs_hidden": false
    }
   },
   "outputs": [],
   "source": [
    "cumulative = round(airbnb[\"neighbourhood_group\"].value_counts(normalize=True).cumsum() * 100, 2)\n",
    "sns.set_style(\"whitegrid\")\n",
    "plt.figure(figsize=(10, 6))\n",
    "ax1 = airbnb[\"neighbourhood_group\"].value_counts().sort_values(ascending=False).plot(kind=\"bar\", color=\"teal\",\n",
    "                                                                                     hatch=\"/\", edgecolor=\"beige\")\n",
    "\n",
    "ax1.bar_label(ax1.containers[0], fmt='%.0f', color=\"black\", fontsize=12)\n",
    "\n",
    "ax2 = cumulative.plot(kind=\"line\", color=\"blue\", secondary_y=True, marker=\"o\")\n",
    "ax1.set_xlabel(\"Neighbourhood Group\", size=14)\n",
    "ax1.set_ylabel(\"Count\", size=14)\n",
    "ax2.set_ylabel(\"Cumulative (%)\", size=14)\n",
    "ax2.legend([\"Cumulative\"], loc=9)\n",
    "plt.title(\"Neighbourhood Groups\", size=18)"
   ]
  },
  {
   "cell_type": "code",
   "execution_count": null,
   "metadata": {
    "ExecuteTime": {
     "end_time": "2023-12-11T20:42:49.142511200Z",
     "start_time": "2023-12-11T20:42:49.051376700Z"
    },
    "jupyter": {
     "outputs_hidden": false
    }
   },
   "outputs": [],
   "source": [
    "airbnb = airbnb.loc[airbnb['price'] > 0]\n",
    "airbnb['price'].min()"
   ]
  },
  {
   "cell_type": "code",
   "execution_count": null,
   "metadata": {
    "ExecuteTime": {
     "end_time": "2023-12-11T20:42:54.306560400Z",
     "start_time": "2023-12-11T20:42:51.326202600Z"
    },
    "jupyter": {
     "outputs_hidden": false
    }
   },
   "outputs": [],
   "source": [
    "airbnb_geo = airbnb.plot(kind='scatter', x='longitude', y='latitude', label='availability_365', c='price',\n",
    "                         cmap=plt.get_cmap('jet'), colorbar=True, alpha=0.4, figsize=(10, 8))\n",
    "airbnb_geo.legend()"
   ]
  },
  {
   "cell_type": "code",
   "execution_count": null,
   "metadata": {
    "ExecuteTime": {
     "end_time": "2023-12-11T20:42:54.344738300Z",
     "start_time": "2023-12-11T20:42:54.299558Z"
    },
    "jupyter": {
     "outputs_hidden": false
    }
   },
   "outputs": [],
   "source": [
    "#Brooklyn\n",
    "sub_1 = airbnb.loc[airbnb['neighbourhood_group'] == 'Brooklyn']\n",
    "price_sub1 = sub_1[['price']]\n",
    "#Manhattan\n",
    "sub_2 = airbnb.loc[airbnb['neighbourhood_group'] == 'Manhattan']\n",
    "price_sub2 = sub_2[['price']]\n",
    "#Queens\n",
    "sub_3 = airbnb.loc[airbnb['neighbourhood_group'] == 'Queens']\n",
    "price_sub3 = sub_3[['price']]\n",
    "#Staten Island\n",
    "sub_4 = airbnb.loc[airbnb['neighbourhood_group'] == 'Staten Island']\n",
    "price_sub4 = sub_4[['price']]\n",
    "#Bronx\n",
    "sub_5 = airbnb.loc[airbnb['neighbourhood_group'] == 'Bronx']\n",
    "price_sub5 = sub_5[['price']]\n",
    "\n",
    "price_list_by_n = [price_sub1, price_sub2, price_sub3, price_sub4, price_sub5]"
   ]
  },
  {
   "cell_type": "code",
   "execution_count": null,
   "metadata": {
    "ExecuteTime": {
     "end_time": "2023-12-11T20:42:59.528392900Z",
     "start_time": "2023-12-11T20:42:59.034079900Z"
    },
    "jupyter": {
     "outputs_hidden": false
    }
   },
   "outputs": [],
   "source": [
    "data1 = []\n",
    "\n",
    "city_list = ['Brooklyn', 'Manhattan', 'Queens', 'Staten Island', 'Bronx']\n",
    "\n",
    "for x in price_list_by_n:\n",
    "    i = x.describe(percentiles=[.25, .50, .75])\n",
    "    i = i.iloc[3:]\n",
    "    i.reset_index(inplace=True)\n",
    "    i.rename(columns={'index': 'Stats'}, inplace=True)\n",
    "    data1.append(i)\n",
    "\n",
    "data1[0].rename(columns={'price': city_list[0]}, inplace=True)\n",
    "data1[1].rename(columns={'price': city_list[1]}, inplace=True)\n",
    "data1[2].rename(columns={'price': city_list[2]}, inplace=True)\n",
    "data1[3].rename(columns={'price': city_list[3]}, inplace=True)\n",
    "data1[4].rename(columns={'price': city_list[4]}, inplace=True)\n",
    "\n",
    "stat_df = data1\n",
    "stat_df = [df.set_index('Stats') for df in stat_df]\n",
    "stat_df = stat_df[0].join(stat_df[1:])\n",
    "stat_df"
   ]
  },
  {
   "cell_type": "code",
   "execution_count": null,
   "metadata": {
    "ExecuteTime": {
     "end_time": "2023-12-11T20:42:59.583389500Z",
     "start_time": "2023-12-11T20:42:59.447513600Z"
    },
    "jupyter": {
     "outputs_hidden": false
    }
   },
   "outputs": [],
   "source": [
    "sub_6 = airbnb[airbnb.price < 500]"
   ]
  },
  {
   "cell_type": "code",
   "execution_count": null,
   "metadata": {
    "ExecuteTime": {
     "end_time": "2023-12-11T20:43:00.280146600Z",
     "start_time": "2023-12-11T20:42:59.527391200Z"
    },
    "jupyter": {
     "outputs_hidden": false
    }
   },
   "outputs": [],
   "source": [
    "data2 = sns.violinplot(data=sub_6, x='neighbourhood_group', y='price')\n",
    "data2.set_title('Density and distribution of prices for each neighberhood_group')"
   ]
  },
  {
   "cell_type": "code",
   "execution_count": null,
   "metadata": {
    "ExecuteTime": {
     "end_time": "2023-12-11T20:43:01.207626300Z",
     "start_time": "2023-12-11T20:43:01.151468700Z"
    },
    "jupyter": {
     "outputs_hidden": false
    }
   },
   "outputs": [],
   "source": [
    "airbnb.neighbourhood.value_counts().head(10)"
   ]
  },
  {
   "cell_type": "code",
   "execution_count": null,
   "metadata": {
    "ExecuteTime": {
     "end_time": "2023-12-11T20:43:04.175923500Z",
     "start_time": "2023-12-11T20:43:02.394889100Z"
    },
    "jupyter": {
     "outputs_hidden": false
    }
   },
   "outputs": [],
   "source": [
    "gdf = gpd.GeoDataFrame(sub_6, geometry=gpd.points_from_xy(sub_6.longitude, sub_6.latitude))\n",
    "\n",
    "fig, ax = plt.subplots(figsize=(10, 8))\n",
    "scatter = ax.scatter(gdf.geometry.x, gdf.geometry.y, c=gdf['price'], cmap='jet', alpha=0.4)\n",
    "\n",
    "plt.colorbar(scatter, ax=ax, label='Price')\n",
    "\n",
    "ax.legend(['availability_365'])\n",
    "plt.show()"
   ]
  },
  {
   "cell_type": "code",
   "execution_count": null,
   "metadata": {
    "ExecuteTime": {
     "end_time": "2023-12-11T20:43:25.814023600Z",
     "start_time": "2023-12-11T20:43:25.377082600Z"
    },
    "jupyter": {
     "outputs_hidden": false
    }
   },
   "outputs": [],
   "source": [
    "m = folium.Map([40.7128, -74.0060], zoom_start=11)\n",
    "HeatMap(airbnb[['latitude', 'longitude']].dropna(), radius=8,\n",
    "        gradient={0.2: 'blue', 0.4: 'purple', 0.6: 'orange', 1.0: 'red'}).add_to(m)\n",
    "display(m)"
   ]
  },
  {
   "cell_type": "code",
   "execution_count": null,
   "metadata": {
    "ExecuteTime": {
     "end_time": "2023-12-11T20:43:36.914564200Z",
     "start_time": "2023-12-11T20:43:28.872997500Z"
    },
    "jupyter": {
     "outputs_hidden": false
    }
   },
   "outputs": [],
   "source": [
    "fig, ax = plt.subplots(1, 2, figsize=(16, 8))\n",
    "sns.histplot(data=airbnb, x=\"price\", kde=True, ax=ax[0]).set_title(\"Price Distribution Before Log Transformation\",\n",
    "                                                                   size=16)\n",
    "sns.histplot(np.log1p(airbnb.price), kde=True, ax=ax[1]).set_title(\"Price Distribution After Log Transformation\",\n",
    "                                                                   size=16)"
   ]
  },
  {
   "cell_type": "code",
   "execution_count": null,
   "metadata": {
    "ExecuteTime": {
     "end_time": "2023-12-11T20:49:20.275955100Z",
     "start_time": "2023-12-11T20:49:19.817026900Z"
    },
    "jupyter": {
     "outputs_hidden": false
    }
   },
   "outputs": [],
   "source": [
    "price_after_transform = np.log1p(airbnb[\"price\"])\n",
    "\n",
    "plt.figure(figsize=(8, 8))\n",
    "stats.probplot(price_after_transform, plot=plt)\n",
    "plt.title(\"QQ Plot After Log Transformation\", size=16)\n",
    "\n",
    "plt.show()"
   ]
  },
  {
   "cell_type": "code",
   "execution_count": null,
   "metadata": {
    "ExecuteTime": {
     "end_time": "2023-12-11T19:05:12.892323700Z",
     "start_time": "2023-12-11T19:05:11.963457600Z"
    },
    "jupyter": {
     "outputs_hidden": false
    }
   },
   "outputs": [],
   "source": [
    "geojs = gpd.read_file('neighborhood.geojson')"
   ]
  },
  {
   "cell_type": "code",
   "execution_count": null,
   "metadata": {
    "ExecuteTime": {
     "end_time": "2023-12-11T19:05:12.899307400Z",
     "start_time": "2023-12-11T19:05:12.894295100Z"
    }
   },
   "outputs": [],
   "source": [
    "df = airbnb[['latitude', 'longitude', 'price']]"
   ]
  },
  {
   "cell_type": "code",
   "execution_count": null,
   "metadata": {
    "ExecuteTime": {
     "end_time": "2023-12-11T19:05:13.454338100Z",
     "start_time": "2023-12-11T19:05:12.902307800Z"
    }
   },
   "outputs": [],
   "source": [
    "df['coords'] = list(zip(df.longitude, df.latitude))\n",
    "df['coords'] = df['coords'].apply(Point)"
   ]
  },
  {
   "cell_type": "code",
   "execution_count": null,
   "metadata": {
    "ExecuteTime": {
     "end_time": "2023-12-11T19:07:17.224446500Z",
     "start_time": "2023-12-11T19:07:00.852828600Z"
    }
   },
   "outputs": [],
   "source": [
    "from matplotlib.colors import Normalize\n",
    "from matplotlib.colorbar import ColorbarBase\n",
    "from matplotlib.cm import ScalarMappable, viridis\n",
    "\n",
    "gdf = gpd.GeoDataFrame(df, geometry='coords')\n",
    "\n",
    "base = geojs.plot(color='white', edgecolor='black', linewidth=1, figsize=(10, 10))\n",
    "\n",
    "norm = Normalize(vmin=gdf['price'].min(), vmax=gdf['price'].max())\n",
    "\n",
    "price_plot = gdf.plot(ax=base, marker='o', column='price', markersize=1, cmap='viridis', legend=False, norm=norm)\n",
    "\n",
    "sm = ScalarMappable(norm=norm, cmap='viridis')\n",
    "sm._A = []\n",
    "cbar = plt.colorbar(sm, ax=base, fraction=0.03, pad=0.04)\n",
    "cbar.set_label('Price Range')\n",
    "\n",
    "plt.xlabel('Longitude')\n",
    "plt.ylabel('Latitude')\n",
    "plt.title('NYC Airbnb Data Price Range (Up to $10,000)')\n",
    "\n",
    "plt.savefig('Price_map.svg', bbox_inches='tight')"
   ]
  },
  {
   "cell_type": "code",
   "execution_count": null,
   "metadata": {},
   "outputs": [],
   "source": [
    "gdf = gpd.GeoDataFrame(df, geometry='coords')\n",
    "\n",
    "base = geojs.plot(color='white', edgecolor='black', linewidth=1, figsize=(10, 10))\n",
    "\n",
    "norm = Normalize(vmin=gdf['price'].min(), vmax=2000)\n",
    "\n",
    "price_plot = gdf.plot(ax=base, marker='o', column='price', markersize=1, cmap='viridis', legend=False, norm=norm)\n",
    "\n",
    "sm = ScalarMappable(norm=norm, cmap='viridis')\n",
    "sm._A = []\n",
    "cbar = plt.colorbar(sm, ax=base, fraction=0.03, pad=0.04)\n",
    "cbar.set_label('Price Range')\n",
    "\n",
    "plt.xlabel('Longitude')\n",
    "plt.ylabel('Latitude')\n",
    "plt.title('NYC Airbnb Data Price Range (Up to $2,000)')\n",
    "\n",
    "plt.savefig('Price_map.svg', bbox_inches='tight')"
   ]
  },
  {
   "cell_type": "code",
   "execution_count": 12,
   "metadata": {
    "ExecuteTime": {
     "end_time": "2023-12-11T19:05:46.065781500Z",
     "start_time": "2023-12-11T19:05:45.411048100Z"
    }
   },
   "outputs": [
    {
     "data": {
      "text/html": [
       "<div>\n",
       "<style scoped>\n",
       "    .dataframe tbody tr th:only-of-type {\n",
       "        vertical-align: middle;\n",
       "    }\n",
       "\n",
       "    .dataframe tbody tr th {\n",
       "        vertical-align: top;\n",
       "    }\n",
       "\n",
       "    .dataframe thead th {\n",
       "        text-align: right;\n",
       "    }\n",
       "</style>\n",
       "<table border=\"1\" class=\"dataframe\">\n",
       "  <thead>\n",
       "    <tr style=\"text-align: right;\">\n",
       "      <th></th>\n",
       "      <th>Boro-Block-Lot</th>\n",
       "      <th>Condo Section</th>\n",
       "      <th>Address</th>\n",
       "      <th>Neighborhood</th>\n",
       "      <th>Building Classification</th>\n",
       "      <th>Total Units</th>\n",
       "      <th>Year Built</th>\n",
       "      <th>Gross SqFt</th>\n",
       "      <th>Estimated Gross Income</th>\n",
       "      <th>Gross Income per SqFt</th>\n",
       "      <th>...</th>\n",
       "      <th>Gross SqFt 3</th>\n",
       "      <th>Estimated Gross Income 3</th>\n",
       "      <th>Gross Income per SqFt 3</th>\n",
       "      <th>Estimated Expense 3</th>\n",
       "      <th>Expense per SqFt 3</th>\n",
       "      <th>Net Operating Income 3</th>\n",
       "      <th>Full Market Value 3</th>\n",
       "      <th>Market Value per SqFt 3</th>\n",
       "      <th>Distance from Condo in miles 2</th>\n",
       "      <th>Report Year</th>\n",
       "    </tr>\n",
       "  </thead>\n",
       "  <tbody>\n",
       "    <tr>\n",
       "      <th>0</th>\n",
       "      <td>1-00576-7501</td>\n",
       "      <td>0003-R1</td>\n",
       "      <td>60 WEST 13 STREET</td>\n",
       "      <td>GREENWICH VILLAGE-CENTRAL</td>\n",
       "      <td>R4  -ELEVATOR</td>\n",
       "      <td>70</td>\n",
       "      <td>1966.0</td>\n",
       "      <td>82017</td>\n",
       "      <td>4452703</td>\n",
       "      <td>54.29</td>\n",
       "      <td>...</td>\n",
       "      <td>27108.0</td>\n",
       "      <td>1471693.0</td>\n",
       "      <td>54.29</td>\n",
       "      <td>571708.0</td>\n",
       "      <td>21.09</td>\n",
       "      <td>899985.0</td>\n",
       "      <td>7318000.0</td>\n",
       "      <td>269.96</td>\n",
       "      <td>0.35</td>\n",
       "      <td>2019</td>\n",
       "    </tr>\n",
       "    <tr>\n",
       "      <th>1</th>\n",
       "      <td>1-01271-7501</td>\n",
       "      <td>0007-R2</td>\n",
       "      <td>1360 6 AVENUE</td>\n",
       "      <td>MIDTOWN WEST</td>\n",
       "      <td>R4  -ELEVATOR</td>\n",
       "      <td>183</td>\n",
       "      <td>1963.0</td>\n",
       "      <td>141738</td>\n",
       "      <td>7113830</td>\n",
       "      <td>50.19</td>\n",
       "      <td>...</td>\n",
       "      <td>39510.0</td>\n",
       "      <td>1987748.0</td>\n",
       "      <td>50.31</td>\n",
       "      <td>527854.0</td>\n",
       "      <td>13.36</td>\n",
       "      <td>1459894.0</td>\n",
       "      <td>9322000.0</td>\n",
       "      <td>235.94</td>\n",
       "      <td>0.63</td>\n",
       "      <td>2019</td>\n",
       "    </tr>\n",
       "    <tr>\n",
       "      <th>2</th>\n",
       "      <td>1-00894-7501</td>\n",
       "      <td>0009-R1</td>\n",
       "      <td>77 PARK AVENUE</td>\n",
       "      <td>MURRAY HILL</td>\n",
       "      <td>R4  -ELEVATOR</td>\n",
       "      <td>109</td>\n",
       "      <td>1924.0</td>\n",
       "      <td>158571</td>\n",
       "      <td>7329152</td>\n",
       "      <td>46.22</td>\n",
       "      <td>...</td>\n",
       "      <td>20784.0</td>\n",
       "      <td>960636.0</td>\n",
       "      <td>46.22</td>\n",
       "      <td>374112.0</td>\n",
       "      <td>18.00</td>\n",
       "      <td>586524.0</td>\n",
       "      <td>3423000.0</td>\n",
       "      <td>164.69</td>\n",
       "      <td>0.22</td>\n",
       "      <td>2019</td>\n",
       "    </tr>\n",
       "    <tr>\n",
       "      <th>3</th>\n",
       "      <td>1-00631-7501</td>\n",
       "      <td>0018-R1</td>\n",
       "      <td>712 GREENWICH STREET</td>\n",
       "      <td>GREENWICH VILLAGE-WEST</td>\n",
       "      <td>R9  -CONDOPS</td>\n",
       "      <td>20</td>\n",
       "      <td>1910.0</td>\n",
       "      <td>53943</td>\n",
       "      <td>2132906</td>\n",
       "      <td>39.54</td>\n",
       "      <td>...</td>\n",
       "      <td>37064.0</td>\n",
       "      <td>1461804.0</td>\n",
       "      <td>39.44</td>\n",
       "      <td>504070.0</td>\n",
       "      <td>13.60</td>\n",
       "      <td>957734.0</td>\n",
       "      <td>14265000.0</td>\n",
       "      <td>384.87</td>\n",
       "      <td>0.19</td>\n",
       "      <td>2019</td>\n",
       "    </tr>\n",
       "    <tr>\n",
       "      <th>4</th>\n",
       "      <td>1-00868-7501</td>\n",
       "      <td>0019-R1</td>\n",
       "      <td>35 EAST 38 STREET</td>\n",
       "      <td>MURRAY HILL</td>\n",
       "      <td>R4  -ELEVATOR</td>\n",
       "      <td>113</td>\n",
       "      <td>1961.0</td>\n",
       "      <td>88230</td>\n",
       "      <td>4288860</td>\n",
       "      <td>48.61</td>\n",
       "      <td>...</td>\n",
       "      <td>41603.0</td>\n",
       "      <td>2022322.0</td>\n",
       "      <td>48.61</td>\n",
       "      <td>497572.0</td>\n",
       "      <td>11.96</td>\n",
       "      <td>1524750.0</td>\n",
       "      <td>7628000.0</td>\n",
       "      <td>183.35</td>\n",
       "      <td>0.22</td>\n",
       "      <td>2019</td>\n",
       "    </tr>\n",
       "    <tr>\n",
       "      <th>...</th>\n",
       "      <td>...</td>\n",
       "      <td>...</td>\n",
       "      <td>...</td>\n",
       "      <td>...</td>\n",
       "      <td>...</td>\n",
       "      <td>...</td>\n",
       "      <td>...</td>\n",
       "      <td>...</td>\n",
       "      <td>...</td>\n",
       "      <td>...</td>\n",
       "      <td>...</td>\n",
       "      <td>...</td>\n",
       "      <td>...</td>\n",
       "      <td>...</td>\n",
       "      <td>...</td>\n",
       "      <td>...</td>\n",
       "      <td>...</td>\n",
       "      <td>...</td>\n",
       "      <td>...</td>\n",
       "      <td>...</td>\n",
       "      <td>...</td>\n",
       "    </tr>\n",
       "    <tr>\n",
       "      <th>31570</th>\n",
       "      <td>5-02829-7501</td>\n",
       "      <td>0100-R1</td>\n",
       "      <td>31 HYLAN BOULEVARD</td>\n",
       "      <td>ROSEBANK</td>\n",
       "      <td>R4    -ELEVATOR</td>\n",
       "      <td>52</td>\n",
       "      <td>1988.0</td>\n",
       "      <td>63601</td>\n",
       "      <td>1425934</td>\n",
       "      <td>22.42</td>\n",
       "      <td>...</td>\n",
       "      <td>297600.0</td>\n",
       "      <td>6743616.0</td>\n",
       "      <td>22.66</td>\n",
       "      <td>3217056.0</td>\n",
       "      <td>10.81</td>\n",
       "      <td>3526560.0</td>\n",
       "      <td>26655000.0</td>\n",
       "      <td>89.57</td>\n",
       "      <td>0.93</td>\n",
       "      <td>2023</td>\n",
       "    </tr>\n",
       "    <tr>\n",
       "      <th>31571</th>\n",
       "      <td>5-02862-7501</td>\n",
       "      <td>0086-R1</td>\n",
       "      <td>50 BELAIR ROAD</td>\n",
       "      <td>ROSEBANK</td>\n",
       "      <td>R2    -WALK-UP</td>\n",
       "      <td>48</td>\n",
       "      <td>1985.0</td>\n",
       "      <td>51425</td>\n",
       "      <td>1097410</td>\n",
       "      <td>21.34</td>\n",
       "      <td>...</td>\n",
       "      <td>NaN</td>\n",
       "      <td>NaN</td>\n",
       "      <td>NaN</td>\n",
       "      <td>NaN</td>\n",
       "      <td>NaN</td>\n",
       "      <td>NaN</td>\n",
       "      <td>NaN</td>\n",
       "      <td>NaN</td>\n",
       "      <td>NaN</td>\n",
       "      <td>2023</td>\n",
       "    </tr>\n",
       "    <tr>\n",
       "      <th>31572</th>\n",
       "      <td>5-03019-7501</td>\n",
       "      <td>0117-R1</td>\n",
       "      <td>81 NARROWS ROAD NORTH</td>\n",
       "      <td>ROSEBANK</td>\n",
       "      <td>R2    -WALK-UP</td>\n",
       "      <td>40</td>\n",
       "      <td>1946.0</td>\n",
       "      <td>38700</td>\n",
       "      <td>846369</td>\n",
       "      <td>21.87</td>\n",
       "      <td>...</td>\n",
       "      <td>8950.0</td>\n",
       "      <td>210862.0</td>\n",
       "      <td>23.56</td>\n",
       "      <td>74106.0</td>\n",
       "      <td>8.28</td>\n",
       "      <td>136756.0</td>\n",
       "      <td>1110000.0</td>\n",
       "      <td>124.02</td>\n",
       "      <td>0.17</td>\n",
       "      <td>2023</td>\n",
       "    </tr>\n",
       "    <tr>\n",
       "      <th>31573</th>\n",
       "      <td>5-03318-7501</td>\n",
       "      <td>0097-R1</td>\n",
       "      <td>163 CROMWELL AVENUE</td>\n",
       "      <td>DONGAN HILLS</td>\n",
       "      <td>R2    -WALK-UP</td>\n",
       "      <td>48</td>\n",
       "      <td>1973.0</td>\n",
       "      <td>38424</td>\n",
       "      <td>745810</td>\n",
       "      <td>19.41</td>\n",
       "      <td>...</td>\n",
       "      <td>10626.0</td>\n",
       "      <td>206251.0</td>\n",
       "      <td>19.41</td>\n",
       "      <td>99884.0</td>\n",
       "      <td>9.40</td>\n",
       "      <td>106366.0</td>\n",
       "      <td>813000.0</td>\n",
       "      <td>76.51</td>\n",
       "      <td>0.21</td>\n",
       "      <td>2023</td>\n",
       "    </tr>\n",
       "    <tr>\n",
       "      <th>31574</th>\n",
       "      <td>5-05491-7501</td>\n",
       "      <td>0012-R1</td>\n",
       "      <td>119 CORTELYOU AVENUE</td>\n",
       "      <td>GREAT KILLS</td>\n",
       "      <td>R2    -WALK-UP</td>\n",
       "      <td>165</td>\n",
       "      <td>1974.0</td>\n",
       "      <td>124516</td>\n",
       "      <td>2584952</td>\n",
       "      <td>20.76</td>\n",
       "      <td>...</td>\n",
       "      <td>69442.0</td>\n",
       "      <td>1471476.0</td>\n",
       "      <td>21.19</td>\n",
       "      <td>684004.0</td>\n",
       "      <td>9.85</td>\n",
       "      <td>787472.0</td>\n",
       "      <td>6105000.0</td>\n",
       "      <td>87.92</td>\n",
       "      <td>2.47</td>\n",
       "      <td>2023</td>\n",
       "    </tr>\n",
       "  </tbody>\n",
       "</table>\n",
       "<p>31575 rows × 61 columns</p>\n",
       "</div>"
      ],
      "text/plain": [
       "      Boro-Block-Lot Condo Section                Address  \\\n",
       "0       1-00576-7501       0003-R1      60 WEST 13 STREET   \n",
       "1       1-01271-7501       0007-R2          1360 6 AVENUE   \n",
       "2       1-00894-7501       0009-R1         77 PARK AVENUE   \n",
       "3       1-00631-7501       0018-R1   712 GREENWICH STREET   \n",
       "4       1-00868-7501       0019-R1      35 EAST 38 STREET   \n",
       "...              ...           ...                    ...   \n",
       "31570   5-02829-7501       0100-R1     31 HYLAN BOULEVARD   \n",
       "31571   5-02862-7501       0086-R1         50 BELAIR ROAD   \n",
       "31572   5-03019-7501       0117-R1  81 NARROWS ROAD NORTH   \n",
       "31573   5-03318-7501       0097-R1    163 CROMWELL AVENUE   \n",
       "31574   5-05491-7501       0012-R1   119 CORTELYOU AVENUE   \n",
       "\n",
       "                    Neighborhood Building Classification  Total Units  \\\n",
       "0      GREENWICH VILLAGE-CENTRAL           R4  -ELEVATOR           70   \n",
       "1                   MIDTOWN WEST           R4  -ELEVATOR          183   \n",
       "2                    MURRAY HILL           R4  -ELEVATOR          109   \n",
       "3         GREENWICH VILLAGE-WEST            R9  -CONDOPS           20   \n",
       "4                    MURRAY HILL           R4  -ELEVATOR          113   \n",
       "...                          ...                     ...          ...   \n",
       "31570                   ROSEBANK         R4    -ELEVATOR           52   \n",
       "31571                   ROSEBANK          R2    -WALK-UP           48   \n",
       "31572                   ROSEBANK          R2    -WALK-UP           40   \n",
       "31573               DONGAN HILLS          R2    -WALK-UP           48   \n",
       "31574                GREAT KILLS          R2    -WALK-UP          165   \n",
       "\n",
       "       Year Built  Gross SqFt  Estimated Gross Income  Gross Income per SqFt  \\\n",
       "0          1966.0       82017                 4452703                  54.29   \n",
       "1          1963.0      141738                 7113830                  50.19   \n",
       "2          1924.0      158571                 7329152                  46.22   \n",
       "3          1910.0       53943                 2132906                  39.54   \n",
       "4          1961.0       88230                 4288860                  48.61   \n",
       "...           ...         ...                     ...                    ...   \n",
       "31570      1988.0       63601                 1425934                  22.42   \n",
       "31571      1985.0       51425                 1097410                  21.34   \n",
       "31572      1946.0       38700                  846369                  21.87   \n",
       "31573      1973.0       38424                  745810                  19.41   \n",
       "31574      1974.0      124516                 2584952                  20.76   \n",
       "\n",
       "       ...  Gross SqFt 3  Estimated Gross Income 3  Gross Income per SqFt 3  \\\n",
       "0      ...       27108.0                 1471693.0                    54.29   \n",
       "1      ...       39510.0                 1987748.0                    50.31   \n",
       "2      ...       20784.0                  960636.0                    46.22   \n",
       "3      ...       37064.0                 1461804.0                    39.44   \n",
       "4      ...       41603.0                 2022322.0                    48.61   \n",
       "...    ...           ...                       ...                      ...   \n",
       "31570  ...      297600.0                 6743616.0                    22.66   \n",
       "31571  ...           NaN                       NaN                      NaN   \n",
       "31572  ...        8950.0                  210862.0                    23.56   \n",
       "31573  ...       10626.0                  206251.0                    19.41   \n",
       "31574  ...       69442.0                 1471476.0                    21.19   \n",
       "\n",
       "       Estimated Expense 3  Expense per SqFt 3 Net Operating Income 3  \\\n",
       "0                 571708.0               21.09               899985.0   \n",
       "1                 527854.0               13.36              1459894.0   \n",
       "2                 374112.0               18.00               586524.0   \n",
       "3                 504070.0               13.60               957734.0   \n",
       "4                 497572.0               11.96              1524750.0   \n",
       "...                    ...                 ...                    ...   \n",
       "31570            3217056.0               10.81              3526560.0   \n",
       "31571                  NaN                 NaN                    NaN   \n",
       "31572              74106.0                8.28               136756.0   \n",
       "31573              99884.0                9.40               106366.0   \n",
       "31574             684004.0                9.85               787472.0   \n",
       "\n",
       "      Full Market Value 3 Market Value per SqFt 3  \\\n",
       "0               7318000.0                  269.96   \n",
       "1               9322000.0                  235.94   \n",
       "2               3423000.0                  164.69   \n",
       "3              14265000.0                  384.87   \n",
       "4               7628000.0                  183.35   \n",
       "...                   ...                     ...   \n",
       "31570          26655000.0                   89.57   \n",
       "31571                 NaN                     NaN   \n",
       "31572           1110000.0                  124.02   \n",
       "31573            813000.0                   76.51   \n",
       "31574           6105000.0                   87.92   \n",
       "\n",
       "      Distance from Condo in miles 2  Report Year  \n",
       "0                               0.35         2019  \n",
       "1                               0.63         2019  \n",
       "2                               0.22         2019  \n",
       "3                               0.19         2019  \n",
       "4                               0.22         2019  \n",
       "...                              ...          ...  \n",
       "31570                           0.93         2023  \n",
       "31571                            NaN         2023  \n",
       "31572                           0.17         2023  \n",
       "31573                           0.21         2023  \n",
       "31574                           2.47         2023  \n",
       "\n",
       "[31575 rows x 61 columns]"
      ]
     },
     "execution_count": 12,
     "metadata": {},
     "output_type": "execute_result"
    }
   ],
   "source": [
    "Rental_Income = pd.read_csv(\"DOF_Condominium_Comparable_Rental_Income_in_NYC_20231211.csv\")\n",
    "Rental_Income"
   ]
  },
  {
   "cell_type": "code",
   "execution_count": 13,
   "metadata": {
    "ExecuteTime": {
     "end_time": "2023-12-11T19:05:46.080405Z",
     "start_time": "2023-12-11T19:05:46.071782800Z"
    }
   },
   "outputs": [],
   "source": [
    "Rental_grossIncome = Rental_Income.groupby(['Neighborhood']).agg({'Gross Income per SqFt': 'mean'})"
   ]
  },
  {
   "cell_type": "code",
   "execution_count": 14,
   "metadata": {
    "ExecuteTime": {
     "end_time": "2023-12-11T19:05:46.111588200Z",
     "start_time": "2023-12-11T19:05:46.082404200Z"
    }
   },
   "outputs": [],
   "source": [
    "Rental_grossIncome.sort_index(inplace=True)"
   ]
  },
  {
   "cell_type": "code",
   "execution_count": 15,
   "metadata": {
    "ExecuteTime": {
     "end_time": "2023-12-11T19:05:46.220066600Z",
     "start_time": "2023-12-11T19:05:46.094569100Z"
    }
   },
   "outputs": [
    {
     "data": {
      "text/html": [
       "<div>\n",
       "<style scoped>\n",
       "    .dataframe tbody tr th:only-of-type {\n",
       "        vertical-align: middle;\n",
       "    }\n",
       "\n",
       "    .dataframe tbody tr th {\n",
       "        vertical-align: top;\n",
       "    }\n",
       "\n",
       "    .dataframe thead th {\n",
       "        text-align: right;\n",
       "    }\n",
       "</style>\n",
       "<table border=\"1\" class=\"dataframe\">\n",
       "  <thead>\n",
       "    <tr style=\"text-align: right;\">\n",
       "      <th></th>\n",
       "      <th>Gross Income per SqFt</th>\n",
       "    </tr>\n",
       "    <tr>\n",
       "      <th>Neighborhood</th>\n",
       "      <th></th>\n",
       "    </tr>\n",
       "  </thead>\n",
       "  <tbody>\n",
       "    <tr>\n",
       "      <th>15TH Q QUEENS</th>\n",
       "      <td>29.626667</td>\n",
       "    </tr>\n",
       "    <tr>\n",
       "      <th>2999</th>\n",
       "      <td>12.600000</td>\n",
       "    </tr>\n",
       "    <tr>\n",
       "      <th>30TH Q BROOKLYN</th>\n",
       "      <td>20.820000</td>\n",
       "    </tr>\n",
       "    <tr>\n",
       "      <th>50TH Q BROOKLYN</th>\n",
       "      <td>24.882500</td>\n",
       "    </tr>\n",
       "    <tr>\n",
       "      <th>5TH Q BROOKLYN</th>\n",
       "      <td>26.815000</td>\n",
       "    </tr>\n",
       "    <tr>\n",
       "      <th>...</th>\n",
       "      <td>...</td>\n",
       "    </tr>\n",
       "    <tr>\n",
       "      <th>WINDSOR TERRACE</th>\n",
       "      <td>28.558235</td>\n",
       "    </tr>\n",
       "    <tr>\n",
       "      <th>WOODHAVEN</th>\n",
       "      <td>18.254524</td>\n",
       "    </tr>\n",
       "    <tr>\n",
       "      <th>WOODSIDE</th>\n",
       "      <td>28.398794</td>\n",
       "    </tr>\n",
       "    <tr>\n",
       "      <th>WYCKOFF HEIGHTS</th>\n",
       "      <td>24.007778</td>\n",
       "    </tr>\n",
       "    <tr>\n",
       "      <th>WYCKOFF HEIGHTS</th>\n",
       "      <td>34.764706</td>\n",
       "    </tr>\n",
       "  </tbody>\n",
       "</table>\n",
       "<p>288 rows × 1 columns</p>\n",
       "</div>"
      ],
      "text/plain": [
       "                 Gross Income per SqFt\n",
       "Neighborhood                          \n",
       "15TH Q QUEENS                29.626667\n",
       "2999                         12.600000\n",
       "30TH Q BROOKLYN              20.820000\n",
       "50TH Q BROOKLYN              24.882500\n",
       "5TH Q BROOKLYN               26.815000\n",
       "...                                ...\n",
       "WINDSOR TERRACE              28.558235\n",
       "WOODHAVEN                    18.254524\n",
       "WOODSIDE                     28.398794\n",
       "WYCKOFF HEIGHTS              24.007778\n",
       "WYCKOFF HEIGHTS              34.764706\n",
       "\n",
       "[288 rows x 1 columns]"
      ]
     },
     "execution_count": 15,
     "metadata": {},
     "output_type": "execute_result"
    }
   ],
   "source": [
    "Rental_grossIncome"
   ]
  },
  {
   "cell_type": "code",
   "execution_count": 16,
   "metadata": {
    "ExecuteTime": {
     "end_time": "2023-12-11T19:05:46.480068300Z",
     "start_time": "2023-12-11T19:05:46.114587200Z"
    }
   },
   "outputs": [],
   "source": [
    "airbnb_neighbor_price = airbnb.groupby(['neighbourhood']).agg({'price': 'mean'})"
   ]
  },
  {
   "cell_type": "code",
   "execution_count": 17,
   "metadata": {
    "ExecuteTime": {
     "end_time": "2023-12-11T19:05:46.555069200Z",
     "start_time": "2023-12-11T19:05:46.133209500Z"
    }
   },
   "outputs": [
    {
     "data": {
      "text/html": [
       "<div>\n",
       "<style scoped>\n",
       "    .dataframe tbody tr th:only-of-type {\n",
       "        vertical-align: middle;\n",
       "    }\n",
       "\n",
       "    .dataframe tbody tr th {\n",
       "        vertical-align: top;\n",
       "    }\n",
       "\n",
       "    .dataframe thead th {\n",
       "        text-align: right;\n",
       "    }\n",
       "</style>\n",
       "<table border=\"1\" class=\"dataframe\">\n",
       "  <thead>\n",
       "    <tr style=\"text-align: right;\">\n",
       "      <th></th>\n",
       "      <th>price</th>\n",
       "    </tr>\n",
       "    <tr>\n",
       "      <th>neighbourhood</th>\n",
       "      <th></th>\n",
       "    </tr>\n",
       "  </thead>\n",
       "  <tbody>\n",
       "    <tr>\n",
       "      <th>Allerton</th>\n",
       "      <td>121.209302</td>\n",
       "    </tr>\n",
       "    <tr>\n",
       "      <th>Arden Heights</th>\n",
       "      <td>135.333333</td>\n",
       "    </tr>\n",
       "    <tr>\n",
       "      <th>Arrochar</th>\n",
       "      <td>147.500000</td>\n",
       "    </tr>\n",
       "    <tr>\n",
       "      <th>Arverne</th>\n",
       "      <td>208.831579</td>\n",
       "    </tr>\n",
       "    <tr>\n",
       "      <th>Astoria</th>\n",
       "      <td>113.670330</td>\n",
       "    </tr>\n",
       "    <tr>\n",
       "      <th>...</th>\n",
       "      <td>...</td>\n",
       "    </tr>\n",
       "    <tr>\n",
       "      <th>Windsor Terrace</th>\n",
       "      <td>176.063830</td>\n",
       "    </tr>\n",
       "    <tr>\n",
       "      <th>Woodhaven</th>\n",
       "      <td>88.531646</td>\n",
       "    </tr>\n",
       "    <tr>\n",
       "      <th>Woodlawn</th>\n",
       "      <td>99.700000</td>\n",
       "    </tr>\n",
       "    <tr>\n",
       "      <th>Woodrow</th>\n",
       "      <td>143.500000</td>\n",
       "    </tr>\n",
       "    <tr>\n",
       "      <th>Woodside</th>\n",
       "      <td>84.607565</td>\n",
       "    </tr>\n",
       "  </tbody>\n",
       "</table>\n",
       "<p>223 rows × 1 columns</p>\n",
       "</div>"
      ],
      "text/plain": [
       "                      price\n",
       "neighbourhood              \n",
       "Allerton         121.209302\n",
       "Arden Heights    135.333333\n",
       "Arrochar         147.500000\n",
       "Arverne          208.831579\n",
       "Astoria          113.670330\n",
       "...                     ...\n",
       "Windsor Terrace  176.063830\n",
       "Woodhaven         88.531646\n",
       "Woodlawn          99.700000\n",
       "Woodrow          143.500000\n",
       "Woodside          84.607565\n",
       "\n",
       "[223 rows x 1 columns]"
      ]
     },
     "execution_count": 17,
     "metadata": {},
     "output_type": "execute_result"
    }
   ],
   "source": [
    "airbnb_neighbor_price"
   ]
  },
  {
   "cell_type": "code",
   "execution_count": 18,
   "metadata": {
    "ExecuteTime": {
     "end_time": "2023-12-11T19:05:46.556070Z",
     "start_time": "2023-12-11T19:05:46.148447100Z"
    }
   },
   "outputs": [],
   "source": [
    "airbnb_neighbor_price.index = airbnb_neighbor_price.index.str.upper()"
   ]
  },
  {
   "cell_type": "code",
   "execution_count": 19,
   "metadata": {
    "ExecuteTime": {
     "end_time": "2023-12-11T19:05:46.556070Z",
     "start_time": "2023-12-11T19:05:46.157930400Z"
    }
   },
   "outputs": [],
   "source": [
    "filtered_Rental_grossIncome = Rental_grossIncome[Rental_grossIncome.index.isin(airbnb_neighbor_price.index)]"
   ]
  },
  {
   "cell_type": "code",
   "execution_count": 20,
   "metadata": {
    "ExecuteTime": {
     "end_time": "2023-12-11T19:05:46.557070500Z",
     "start_time": "2023-12-11T19:05:46.165195700Z"
    }
   },
   "outputs": [
    {
     "data": {
      "text/html": [
       "<div>\n",
       "<style scoped>\n",
       "    .dataframe tbody tr th:only-of-type {\n",
       "        vertical-align: middle;\n",
       "    }\n",
       "\n",
       "    .dataframe tbody tr th {\n",
       "        vertical-align: top;\n",
       "    }\n",
       "\n",
       "    .dataframe thead th {\n",
       "        text-align: right;\n",
       "    }\n",
       "</style>\n",
       "<table border=\"1\" class=\"dataframe\">\n",
       "  <thead>\n",
       "    <tr style=\"text-align: right;\">\n",
       "      <th></th>\n",
       "      <th>Gross Income per SqFt</th>\n",
       "    </tr>\n",
       "    <tr>\n",
       "      <th>Neighborhood</th>\n",
       "      <th></th>\n",
       "    </tr>\n",
       "  </thead>\n",
       "  <tbody>\n",
       "    <tr>\n",
       "      <th>ARVERNE</th>\n",
       "      <td>29.905000</td>\n",
       "    </tr>\n",
       "    <tr>\n",
       "      <th>ASTORIA</th>\n",
       "      <td>27.833360</td>\n",
       "    </tr>\n",
       "    <tr>\n",
       "      <th>BATH BEACH</th>\n",
       "      <td>17.751803</td>\n",
       "    </tr>\n",
       "    <tr>\n",
       "      <th>BAY RIDGE</th>\n",
       "      <td>20.267846</td>\n",
       "    </tr>\n",
       "    <tr>\n",
       "      <th>BAYSIDE</th>\n",
       "      <td>23.749327</td>\n",
       "    </tr>\n",
       "    <tr>\n",
       "      <th>...</th>\n",
       "      <td>...</td>\n",
       "    </tr>\n",
       "    <tr>\n",
       "      <th>WHITESTONE</th>\n",
       "      <td>20.868000</td>\n",
       "    </tr>\n",
       "    <tr>\n",
       "      <th>WILLIAMSBRIDGE</th>\n",
       "      <td>17.756970</td>\n",
       "    </tr>\n",
       "    <tr>\n",
       "      <th>WINDSOR TERRACE</th>\n",
       "      <td>21.261250</td>\n",
       "    </tr>\n",
       "    <tr>\n",
       "      <th>WOODHAVEN</th>\n",
       "      <td>18.254524</td>\n",
       "    </tr>\n",
       "    <tr>\n",
       "      <th>WOODSIDE</th>\n",
       "      <td>28.398794</td>\n",
       "    </tr>\n",
       "  </tbody>\n",
       "</table>\n",
       "<p>99 rows × 1 columns</p>\n",
       "</div>"
      ],
      "text/plain": [
       "                 Gross Income per SqFt\n",
       "Neighborhood                          \n",
       "ARVERNE                      29.905000\n",
       "ASTORIA                      27.833360\n",
       "BATH BEACH                   17.751803\n",
       "BAY RIDGE                    20.267846\n",
       "BAYSIDE                      23.749327\n",
       "...                                ...\n",
       "WHITESTONE                   20.868000\n",
       "WILLIAMSBRIDGE               17.756970\n",
       "WINDSOR TERRACE              21.261250\n",
       "WOODHAVEN                    18.254524\n",
       "WOODSIDE                     28.398794\n",
       "\n",
       "[99 rows x 1 columns]"
      ]
     },
     "execution_count": 20,
     "metadata": {},
     "output_type": "execute_result"
    }
   ],
   "source": [
    "filtered_Rental_grossIncome"
   ]
  },
  {
   "cell_type": "code",
   "execution_count": 44,
   "metadata": {
    "ExecuteTime": {
     "end_time": "2023-12-11T19:05:46.557070500Z",
     "start_time": "2023-12-11T19:05:46.185436200Z"
    }
   },
   "outputs": [],
   "source": [
    "Rental_marketvalue = Rental_Income.groupby(['Neighborhood']).agg({'Market Value per SqFt': 'mean'})\n",
    "filtered_Rental_marketvalue = Rental_marketvalue[Rental_marketvalue.index.isin(airbnb_neighbor_price.index)]"
   ]
  },
  {
   "cell_type": "code",
   "execution_count": 45,
   "metadata": {
    "ExecuteTime": {
     "end_time": "2023-12-11T19:05:46.558071200Z",
     "start_time": "2023-12-11T19:05:46.193787500Z"
    }
   },
   "outputs": [
    {
     "data": {
      "text/html": [
       "<div>\n",
       "<style scoped>\n",
       "    .dataframe tbody tr th:only-of-type {\n",
       "        vertical-align: middle;\n",
       "    }\n",
       "\n",
       "    .dataframe tbody tr th {\n",
       "        vertical-align: top;\n",
       "    }\n",
       "\n",
       "    .dataframe thead th {\n",
       "        text-align: right;\n",
       "    }\n",
       "</style>\n",
       "<table border=\"1\" class=\"dataframe\">\n",
       "  <thead>\n",
       "    <tr style=\"text-align: right;\">\n",
       "      <th></th>\n",
       "      <th>Market Value per SqFt</th>\n",
       "    </tr>\n",
       "    <tr>\n",
       "      <th>Neighborhood</th>\n",
       "      <th></th>\n",
       "    </tr>\n",
       "  </thead>\n",
       "  <tbody>\n",
       "    <tr>\n",
       "      <th>ARVERNE</th>\n",
       "      <td>137.250000</td>\n",
       "    </tr>\n",
       "    <tr>\n",
       "      <th>ASTORIA</th>\n",
       "      <td>143.843281</td>\n",
       "    </tr>\n",
       "    <tr>\n",
       "      <th>BATH BEACH</th>\n",
       "      <td>73.815082</td>\n",
       "    </tr>\n",
       "    <tr>\n",
       "      <th>BAY RIDGE</th>\n",
       "      <td>90.857385</td>\n",
       "    </tr>\n",
       "    <tr>\n",
       "      <th>BAYSIDE</th>\n",
       "      <td>120.646635</td>\n",
       "    </tr>\n",
       "    <tr>\n",
       "      <th>...</th>\n",
       "      <td>...</td>\n",
       "    </tr>\n",
       "    <tr>\n",
       "      <th>WHITESTONE</th>\n",
       "      <td>90.485500</td>\n",
       "    </tr>\n",
       "    <tr>\n",
       "      <th>WILLIAMSBRIDGE</th>\n",
       "      <td>72.936970</td>\n",
       "    </tr>\n",
       "    <tr>\n",
       "      <th>WINDSOR TERRACE</th>\n",
       "      <td>101.908571</td>\n",
       "    </tr>\n",
       "    <tr>\n",
       "      <th>WOODHAVEN</th>\n",
       "      <td>75.257381</td>\n",
       "    </tr>\n",
       "    <tr>\n",
       "      <th>WOODSIDE</th>\n",
       "      <td>147.814894</td>\n",
       "    </tr>\n",
       "  </tbody>\n",
       "</table>\n",
       "<p>99 rows × 1 columns</p>\n",
       "</div>"
      ],
      "text/plain": [
       "                 Market Value per SqFt\n",
       "Neighborhood                          \n",
       "ARVERNE                     137.250000\n",
       "ASTORIA                     143.843281\n",
       "BATH BEACH                   73.815082\n",
       "BAY RIDGE                    90.857385\n",
       "BAYSIDE                     120.646635\n",
       "...                                ...\n",
       "WHITESTONE                   90.485500\n",
       "WILLIAMSBRIDGE               72.936970\n",
       "WINDSOR TERRACE             101.908571\n",
       "WOODHAVEN                    75.257381\n",
       "WOODSIDE                    147.814894\n",
       "\n",
       "[99 rows x 1 columns]"
      ]
     },
     "execution_count": 45,
     "metadata": {},
     "output_type": "execute_result"
    }
   ],
   "source": [
    "filtered_Rental_marketvalue"
   ]
  },
  {
   "cell_type": "code",
   "execution_count": 46,
   "metadata": {},
   "outputs": [
    {
     "data": {
      "text/html": [
       "<div>\n",
       "<style scoped>\n",
       "    .dataframe tbody tr th:only-of-type {\n",
       "        vertical-align: middle;\n",
       "    }\n",
       "\n",
       "    .dataframe tbody tr th {\n",
       "        vertical-align: top;\n",
       "    }\n",
       "\n",
       "    .dataframe thead th {\n",
       "        text-align: right;\n",
       "    }\n",
       "</style>\n",
       "<table border=\"1\" class=\"dataframe\">\n",
       "  <thead>\n",
       "    <tr style=\"text-align: right;\">\n",
       "      <th></th>\n",
       "      <th>logairbnbPrice</th>\n",
       "      <th>logmarketvalue</th>\n",
       "    </tr>\n",
       "  </thead>\n",
       "  <tbody>\n",
       "    <tr>\n",
       "      <th>ARVERNE</th>\n",
       "      <td>5.341528</td>\n",
       "      <td>4.921804</td>\n",
       "    </tr>\n",
       "    <tr>\n",
       "      <th>ASTORIA</th>\n",
       "      <td>4.733302</td>\n",
       "      <td>4.968724</td>\n",
       "    </tr>\n",
       "    <tr>\n",
       "      <th>BATH BEACH</th>\n",
       "      <td>5.100707</td>\n",
       "      <td>4.301563</td>\n",
       "    </tr>\n",
       "    <tr>\n",
       "      <th>BAY RIDGE</th>\n",
       "      <td>4.713814</td>\n",
       "      <td>4.509291</td>\n",
       "    </tr>\n",
       "    <tr>\n",
       "      <th>BAYSIDE</th>\n",
       "      <td>5.013900</td>\n",
       "      <td>4.792866</td>\n",
       "    </tr>\n",
       "    <tr>\n",
       "      <th>...</th>\n",
       "      <td>...</td>\n",
       "      <td>...</td>\n",
       "    </tr>\n",
       "    <tr>\n",
       "      <th>WHITESTONE</th>\n",
       "      <td>5.773969</td>\n",
       "      <td>4.505190</td>\n",
       "    </tr>\n",
       "    <tr>\n",
       "      <th>WILLIAMSBRIDGE</th>\n",
       "      <td>4.572991</td>\n",
       "      <td>4.289596</td>\n",
       "    </tr>\n",
       "    <tr>\n",
       "      <th>WINDSOR TERRACE</th>\n",
       "      <td>5.170847</td>\n",
       "      <td>4.624076</td>\n",
       "    </tr>\n",
       "    <tr>\n",
       "      <th>WOODHAVEN</th>\n",
       "      <td>4.483360</td>\n",
       "      <td>4.320914</td>\n",
       "    </tr>\n",
       "    <tr>\n",
       "      <th>WOODSIDE</th>\n",
       "      <td>4.438024</td>\n",
       "      <td>4.995961</td>\n",
       "    </tr>\n",
       "  </tbody>\n",
       "</table>\n",
       "<p>99 rows × 2 columns</p>\n",
       "</div>"
      ],
      "text/plain": [
       "                 logairbnbPrice  logmarketvalue\n",
       "ARVERNE                5.341528        4.921804\n",
       "ASTORIA                4.733302        4.968724\n",
       "BATH BEACH             5.100707        4.301563\n",
       "BAY RIDGE              4.713814        4.509291\n",
       "BAYSIDE                5.013900        4.792866\n",
       "...                         ...             ...\n",
       "WHITESTONE             5.773969        4.505190\n",
       "WILLIAMSBRIDGE         4.572991        4.289596\n",
       "WINDSOR TERRACE        5.170847        4.624076\n",
       "WOODHAVEN              4.483360        4.320914\n",
       "WOODSIDE               4.438024        4.995961\n",
       "\n",
       "[99 rows x 2 columns]"
      ]
     },
     "execution_count": 46,
     "metadata": {},
     "output_type": "execute_result"
    }
   ],
   "source": [
    "logairbnbPrice = np.log(airbnb_neighbor_price['price'])\n",
    "logmarketvalue = np.log(filtered_Rental_marketvalue['Market Value per SqFt'])\n",
    "dataLog = pd.DataFrame({'logairbnbPrice':logairbnbPrice, 'logmarketvalue':logmarketvalue})\n",
    "dataLog.dropna()"
   ]
  },
  {
   "cell_type": "code",
   "execution_count": 47,
   "metadata": {},
   "outputs": [
    {
     "data": {
      "text/html": [
       "<table class=\"simpletable\">\n",
       "<caption>OLS Regression Results</caption>\n",
       "<tr>\n",
       "  <th>Dep. Variable:</th>     <td>logmarketvalue</td>  <th>  R-squared:         </th> <td>   0.246</td>\n",
       "</tr>\n",
       "<tr>\n",
       "  <th>Model:</th>                   <td>OLS</td>       <th>  Adj. R-squared:    </th> <td>   0.238</td>\n",
       "</tr>\n",
       "<tr>\n",
       "  <th>Method:</th>             <td>Least Squares</td>  <th>  F-statistic:       </th> <td>   31.56</td>\n",
       "</tr>\n",
       "<tr>\n",
       "  <th>Date:</th>             <td>Mon, 11 Dec 2023</td> <th>  Prob (F-statistic):</th> <td>1.85e-07</td>\n",
       "</tr>\n",
       "<tr>\n",
       "  <th>Time:</th>                 <td>18:11:52</td>     <th>  Log-Likelihood:    </th> <td> -47.299</td>\n",
       "</tr>\n",
       "<tr>\n",
       "  <th>No. Observations:</th>      <td>    99</td>      <th>  AIC:               </th> <td>   98.60</td>\n",
       "</tr>\n",
       "<tr>\n",
       "  <th>Df Residuals:</th>          <td>    97</td>      <th>  BIC:               </th> <td>   103.8</td>\n",
       "</tr>\n",
       "<tr>\n",
       "  <th>Df Model:</th>              <td>     1</td>      <th>                     </th>     <td> </td>   \n",
       "</tr>\n",
       "<tr>\n",
       "  <th>Covariance Type:</th>      <td>nonrobust</td>    <th>                     </th>     <td> </td>   \n",
       "</tr>\n",
       "</table>\n",
       "<table class=\"simpletable\">\n",
       "<tr>\n",
       "         <td></td>           <th>coef</th>     <th>std err</th>      <th>t</th>      <th>P>|t|</th>  <th>[0.025</th>    <th>0.975]</th>  \n",
       "</tr>\n",
       "<tr>\n",
       "  <th>Intercept</th>      <td>    2.2494</td> <td>    0.428</td> <td>    5.253</td> <td> 0.000</td> <td>    1.400</td> <td>    3.099</td>\n",
       "</tr>\n",
       "<tr>\n",
       "  <th>logairbnbPrice</th> <td>    0.4758</td> <td>    0.085</td> <td>    5.618</td> <td> 0.000</td> <td>    0.308</td> <td>    0.644</td>\n",
       "</tr>\n",
       "</table>\n",
       "<table class=\"simpletable\">\n",
       "<tr>\n",
       "  <th>Omnibus:</th>       <td> 0.375</td> <th>  Durbin-Watson:     </th> <td>   2.168</td>\n",
       "</tr>\n",
       "<tr>\n",
       "  <th>Prob(Omnibus):</th> <td> 0.829</td> <th>  Jarque-Bera (JB):  </th> <td>   0.397</td>\n",
       "</tr>\n",
       "<tr>\n",
       "  <th>Skew:</th>          <td>-0.142</td> <th>  Prob(JB):          </th> <td>   0.820</td>\n",
       "</tr>\n",
       "<tr>\n",
       "  <th>Kurtosis:</th>      <td> 2.875</td> <th>  Cond. No.          </th> <td>    56.8</td>\n",
       "</tr>\n",
       "</table><br/><br/>Notes:<br/>[1] Standard Errors assume that the covariance matrix of the errors is correctly specified."
      ],
      "text/latex": [
       "\\begin{center}\n",
       "\\begin{tabular}{lclc}\n",
       "\\toprule\n",
       "\\textbf{Dep. Variable:}    &  logmarketvalue  & \\textbf{  R-squared:         } &     0.246   \\\\\n",
       "\\textbf{Model:}            &       OLS        & \\textbf{  Adj. R-squared:    } &     0.238   \\\\\n",
       "\\textbf{Method:}           &  Least Squares   & \\textbf{  F-statistic:       } &     31.56   \\\\\n",
       "\\textbf{Date:}             & Mon, 11 Dec 2023 & \\textbf{  Prob (F-statistic):} &  1.85e-07   \\\\\n",
       "\\textbf{Time:}             &     18:11:52     & \\textbf{  Log-Likelihood:    } &   -47.299   \\\\\n",
       "\\textbf{No. Observations:} &          99      & \\textbf{  AIC:               } &     98.60   \\\\\n",
       "\\textbf{Df Residuals:}     &          97      & \\textbf{  BIC:               } &     103.8   \\\\\n",
       "\\textbf{Df Model:}         &           1      & \\textbf{                     } &             \\\\\n",
       "\\textbf{Covariance Type:}  &    nonrobust     & \\textbf{                     } &             \\\\\n",
       "\\bottomrule\n",
       "\\end{tabular}\n",
       "\\begin{tabular}{lcccccc}\n",
       "                        & \\textbf{coef} & \\textbf{std err} & \\textbf{t} & \\textbf{P$> |$t$|$} & \\textbf{[0.025} & \\textbf{0.975]}  \\\\\n",
       "\\midrule\n",
       "\\textbf{Intercept}      &       2.2494  &        0.428     &     5.253  &         0.000        &        1.400    &        3.099     \\\\\n",
       "\\textbf{logairbnbPrice} &       0.4758  &        0.085     &     5.618  &         0.000        &        0.308    &        0.644     \\\\\n",
       "\\bottomrule\n",
       "\\end{tabular}\n",
       "\\begin{tabular}{lclc}\n",
       "\\textbf{Omnibus:}       &  0.375 & \\textbf{  Durbin-Watson:     } &    2.168  \\\\\n",
       "\\textbf{Prob(Omnibus):} &  0.829 & \\textbf{  Jarque-Bera (JB):  } &    0.397  \\\\\n",
       "\\textbf{Skew:}          & -0.142 & \\textbf{  Prob(JB):          } &    0.820  \\\\\n",
       "\\textbf{Kurtosis:}      &  2.875 & \\textbf{  Cond. No.          } &     56.8  \\\\\n",
       "\\bottomrule\n",
       "\\end{tabular}\n",
       "%\\caption{OLS Regression Results}\n",
       "\\end{center}\n",
       "\n",
       "Notes: \\newline\n",
       " [1] Standard Errors assume that the covariance matrix of the errors is correctly specified."
      ],
      "text/plain": [
       "<class 'statsmodels.iolib.summary.Summary'>\n",
       "\"\"\"\n",
       "                            OLS Regression Results                            \n",
       "==============================================================================\n",
       "Dep. Variable:         logmarketvalue   R-squared:                       0.246\n",
       "Model:                            OLS   Adj. R-squared:                  0.238\n",
       "Method:                 Least Squares   F-statistic:                     31.56\n",
       "Date:                Mon, 11 Dec 2023   Prob (F-statistic):           1.85e-07\n",
       "Time:                        18:11:52   Log-Likelihood:                -47.299\n",
       "No. Observations:                  99   AIC:                             98.60\n",
       "Df Residuals:                      97   BIC:                             103.8\n",
       "Df Model:                           1                                         \n",
       "Covariance Type:            nonrobust                                         \n",
       "==================================================================================\n",
       "                     coef    std err          t      P>|t|      [0.025      0.975]\n",
       "----------------------------------------------------------------------------------\n",
       "Intercept          2.2494      0.428      5.253      0.000       1.400       3.099\n",
       "logairbnbPrice     0.4758      0.085      5.618      0.000       0.308       0.644\n",
       "==============================================================================\n",
       "Omnibus:                        0.375   Durbin-Watson:                   2.168\n",
       "Prob(Omnibus):                  0.829   Jarque-Bera (JB):                0.397\n",
       "Skew:                          -0.142   Prob(JB):                        0.820\n",
       "Kurtosis:                       2.875   Cond. No.                         56.8\n",
       "==============================================================================\n",
       "\n",
       "Notes:\n",
       "[1] Standard Errors assume that the covariance matrix of the errors is correctly specified.\n",
       "\"\"\""
      ]
     },
     "execution_count": 47,
     "metadata": {},
     "output_type": "execute_result"
    }
   ],
   "source": [
    "lmairbnbPrice = smf.ols('logmarketvalue~logairbnbPrice', data=dataLog).fit()\n",
    "lmairbnbPrice.summary()"
   ]
  },
  {
   "cell_type": "code",
   "execution_count": 48,
   "metadata": {
    "scrolled": true
   },
   "outputs": [
    {
     "ename": "ValueError",
     "evalue": "x and y must have same first dimension, but have shapes (223,) and (99,)",
     "output_type": "error",
     "traceback": [
      "\u001b[0;31m---------------------------------------------------------------------------\u001b[0m",
      "\u001b[0;31mValueError\u001b[0m                                Traceback (most recent call last)",
      "Cell \u001b[0;32mIn[48], line 6\u001b[0m\n\u001b[1;32m      4\u001b[0m plt\u001b[38;5;241m.\u001b[39mxlabel(\u001b[38;5;124m'\u001b[39m\u001b[38;5;124mlog(airbnbPrice)\u001b[39m\u001b[38;5;124m'\u001b[39m)\n\u001b[1;32m      5\u001b[0m plt\u001b[38;5;241m.\u001b[39mylabel(\u001b[38;5;124m'\u001b[39m\u001b[38;5;124mlog(marketvalue)\u001b[39m\u001b[38;5;124m'\u001b[39m)\n\u001b[0;32m----> 6\u001b[0m plt\u001b[38;5;241m.\u001b[39mplot(dataLog[\u001b[38;5;124m'\u001b[39m\u001b[38;5;124mlogairbnbPrice\u001b[39m\u001b[38;5;124m'\u001b[39m], lmairbnbPrice\u001b[38;5;241m.\u001b[39mpredict(), \u001b[38;5;124m'\u001b[39m\u001b[38;5;124m-r\u001b[39m\u001b[38;5;124m'\u001b[39m, label\u001b[38;5;241m=\u001b[39m\u001b[38;5;124m'\u001b[39m\u001b[38;5;124mFitted Line\u001b[39m\u001b[38;5;124m'\u001b[39m)\n\u001b[1;32m      7\u001b[0m plt\u001b[38;5;241m.\u001b[39mlegend()\n\u001b[1;32m      9\u001b[0m plt\u001b[38;5;241m.\u001b[39mshow()\n",
      "File \u001b[0;32m~/anaconda3/lib/python3.11/site-packages/matplotlib/pyplot.py:2812\u001b[0m, in \u001b[0;36mplot\u001b[0;34m(scalex, scaley, data, *args, **kwargs)\u001b[0m\n\u001b[1;32m   2810\u001b[0m \u001b[38;5;129m@_copy_docstring_and_deprecators\u001b[39m(Axes\u001b[38;5;241m.\u001b[39mplot)\n\u001b[1;32m   2811\u001b[0m \u001b[38;5;28;01mdef\u001b[39;00m \u001b[38;5;21mplot\u001b[39m(\u001b[38;5;241m*\u001b[39margs, scalex\u001b[38;5;241m=\u001b[39m\u001b[38;5;28;01mTrue\u001b[39;00m, scaley\u001b[38;5;241m=\u001b[39m\u001b[38;5;28;01mTrue\u001b[39;00m, data\u001b[38;5;241m=\u001b[39m\u001b[38;5;28;01mNone\u001b[39;00m, \u001b[38;5;241m*\u001b[39m\u001b[38;5;241m*\u001b[39mkwargs):\n\u001b[0;32m-> 2812\u001b[0m     \u001b[38;5;28;01mreturn\u001b[39;00m gca()\u001b[38;5;241m.\u001b[39mplot(\n\u001b[1;32m   2813\u001b[0m         \u001b[38;5;241m*\u001b[39margs, scalex\u001b[38;5;241m=\u001b[39mscalex, scaley\u001b[38;5;241m=\u001b[39mscaley,\n\u001b[1;32m   2814\u001b[0m         \u001b[38;5;241m*\u001b[39m\u001b[38;5;241m*\u001b[39m({\u001b[38;5;124m\"\u001b[39m\u001b[38;5;124mdata\u001b[39m\u001b[38;5;124m\"\u001b[39m: data} \u001b[38;5;28;01mif\u001b[39;00m data \u001b[38;5;129;01mis\u001b[39;00m \u001b[38;5;129;01mnot\u001b[39;00m \u001b[38;5;28;01mNone\u001b[39;00m \u001b[38;5;28;01melse\u001b[39;00m {}), \u001b[38;5;241m*\u001b[39m\u001b[38;5;241m*\u001b[39mkwargs)\n",
      "File \u001b[0;32m~/anaconda3/lib/python3.11/site-packages/matplotlib/axes/_axes.py:1688\u001b[0m, in \u001b[0;36mAxes.plot\u001b[0;34m(self, scalex, scaley, data, *args, **kwargs)\u001b[0m\n\u001b[1;32m   1445\u001b[0m \u001b[38;5;250m\u001b[39m\u001b[38;5;124;03m\"\"\"\u001b[39;00m\n\u001b[1;32m   1446\u001b[0m \u001b[38;5;124;03mPlot y versus x as lines and/or markers.\u001b[39;00m\n\u001b[1;32m   1447\u001b[0m \n\u001b[0;32m   (...)\u001b[0m\n\u001b[1;32m   1685\u001b[0m \u001b[38;5;124;03m(``'green'``) or hex strings (``'#008000'``).\u001b[39;00m\n\u001b[1;32m   1686\u001b[0m \u001b[38;5;124;03m\"\"\"\u001b[39;00m\n\u001b[1;32m   1687\u001b[0m kwargs \u001b[38;5;241m=\u001b[39m cbook\u001b[38;5;241m.\u001b[39mnormalize_kwargs(kwargs, mlines\u001b[38;5;241m.\u001b[39mLine2D)\n\u001b[0;32m-> 1688\u001b[0m lines \u001b[38;5;241m=\u001b[39m [\u001b[38;5;241m*\u001b[39m\u001b[38;5;28mself\u001b[39m\u001b[38;5;241m.\u001b[39m_get_lines(\u001b[38;5;241m*\u001b[39margs, data\u001b[38;5;241m=\u001b[39mdata, \u001b[38;5;241m*\u001b[39m\u001b[38;5;241m*\u001b[39mkwargs)]\n\u001b[1;32m   1689\u001b[0m \u001b[38;5;28;01mfor\u001b[39;00m line \u001b[38;5;129;01min\u001b[39;00m lines:\n\u001b[1;32m   1690\u001b[0m     \u001b[38;5;28mself\u001b[39m\u001b[38;5;241m.\u001b[39madd_line(line)\n",
      "File \u001b[0;32m~/anaconda3/lib/python3.11/site-packages/matplotlib/axes/_base.py:311\u001b[0m, in \u001b[0;36m_process_plot_var_args.__call__\u001b[0;34m(self, data, *args, **kwargs)\u001b[0m\n\u001b[1;32m    309\u001b[0m     this \u001b[38;5;241m+\u001b[39m\u001b[38;5;241m=\u001b[39m args[\u001b[38;5;241m0\u001b[39m],\n\u001b[1;32m    310\u001b[0m     args \u001b[38;5;241m=\u001b[39m args[\u001b[38;5;241m1\u001b[39m:]\n\u001b[0;32m--> 311\u001b[0m \u001b[38;5;28;01myield from\u001b[39;00m \u001b[38;5;28mself\u001b[39m\u001b[38;5;241m.\u001b[39m_plot_args(\n\u001b[1;32m    312\u001b[0m     this, kwargs, ambiguous_fmt_datakey\u001b[38;5;241m=\u001b[39mambiguous_fmt_datakey)\n",
      "File \u001b[0;32m~/anaconda3/lib/python3.11/site-packages/matplotlib/axes/_base.py:504\u001b[0m, in \u001b[0;36m_process_plot_var_args._plot_args\u001b[0;34m(self, tup, kwargs, return_kwargs, ambiguous_fmt_datakey)\u001b[0m\n\u001b[1;32m    501\u001b[0m     \u001b[38;5;28mself\u001b[39m\u001b[38;5;241m.\u001b[39maxes\u001b[38;5;241m.\u001b[39myaxis\u001b[38;5;241m.\u001b[39mupdate_units(y)\n\u001b[1;32m    503\u001b[0m \u001b[38;5;28;01mif\u001b[39;00m x\u001b[38;5;241m.\u001b[39mshape[\u001b[38;5;241m0\u001b[39m] \u001b[38;5;241m!=\u001b[39m y\u001b[38;5;241m.\u001b[39mshape[\u001b[38;5;241m0\u001b[39m]:\n\u001b[0;32m--> 504\u001b[0m     \u001b[38;5;28;01mraise\u001b[39;00m \u001b[38;5;167;01mValueError\u001b[39;00m(\u001b[38;5;124mf\u001b[39m\u001b[38;5;124m\"\u001b[39m\u001b[38;5;124mx and y must have same first dimension, but \u001b[39m\u001b[38;5;124m\"\u001b[39m\n\u001b[1;32m    505\u001b[0m                      \u001b[38;5;124mf\u001b[39m\u001b[38;5;124m\"\u001b[39m\u001b[38;5;124mhave shapes \u001b[39m\u001b[38;5;132;01m{\u001b[39;00mx\u001b[38;5;241m.\u001b[39mshape\u001b[38;5;132;01m}\u001b[39;00m\u001b[38;5;124m and \u001b[39m\u001b[38;5;132;01m{\u001b[39;00my\u001b[38;5;241m.\u001b[39mshape\u001b[38;5;132;01m}\u001b[39;00m\u001b[38;5;124m\"\u001b[39m)\n\u001b[1;32m    506\u001b[0m \u001b[38;5;28;01mif\u001b[39;00m x\u001b[38;5;241m.\u001b[39mndim \u001b[38;5;241m>\u001b[39m \u001b[38;5;241m2\u001b[39m \u001b[38;5;129;01mor\u001b[39;00m y\u001b[38;5;241m.\u001b[39mndim \u001b[38;5;241m>\u001b[39m \u001b[38;5;241m2\u001b[39m:\n\u001b[1;32m    507\u001b[0m     \u001b[38;5;28;01mraise\u001b[39;00m \u001b[38;5;167;01mValueError\u001b[39;00m(\u001b[38;5;124mf\u001b[39m\u001b[38;5;124m\"\u001b[39m\u001b[38;5;124mx and y can be no greater than 2D, but have \u001b[39m\u001b[38;5;124m\"\u001b[39m\n\u001b[1;32m    508\u001b[0m                      \u001b[38;5;124mf\u001b[39m\u001b[38;5;124m\"\u001b[39m\u001b[38;5;124mshapes \u001b[39m\u001b[38;5;132;01m{\u001b[39;00mx\u001b[38;5;241m.\u001b[39mshape\u001b[38;5;132;01m}\u001b[39;00m\u001b[38;5;124m and \u001b[39m\u001b[38;5;132;01m{\u001b[39;00my\u001b[38;5;241m.\u001b[39mshape\u001b[38;5;132;01m}\u001b[39;00m\u001b[38;5;124m\"\u001b[39m)\n",
      "\u001b[0;31mValueError\u001b[0m: x and y must have same first dimension, but have shapes (223,) and (99,)"
     ]
    },
    {
     "data": {
      "image/png": "[encoded data removed]",
      "text/plain": [
       "<Figure size 1400x800 with 1 Axes>"
      ]
     },
     "metadata": {},
     "output_type": "display_data"
    }
   ],
   "source": [
    "plt.figure(figsize=(14, 8))\n",
    "plt.plot(dataLog['logairbnbPrice'], dataLog['logmarketvalue'], 'o', label='Data')\n",
    "plt.title('Income Scaling', fontsize=15)\n",
    "plt.xlabel('log(airbnbPrice)')\n",
    "plt.ylabel('log(marketvalue)')\n",
    "plt.plot(dataLog['logairbnbPrice'], lmairbnbPrice.predict(), '-r', label='Fitted Line')\n",
    "plt.legend()\n",
    "\n",
    "plt.show()"
   ]
  },
  {
   "cell_type": "code",
   "execution_count": 49,
   "metadata": {},
   "outputs": [
    {
     "data": {
      "image/png": "[encoded data removed]",
      "text/plain": [
       "<Figure size 1400x800 with 1 Axes>"
      ]
     },
     "metadata": {},
     "output_type": "display_data"
    }
   ],
   "source": [
    "loggrossIncome = np.log(filtered_Rental_grossIncome['Gross Income per SqFt'])\n",
    "\n",
    "# Create a new DataFrame\n",
    "dataLog = pd.DataFrame({'logairbnbPrice': logairbnbPrice, 'loggrossIncome': loggrossIncome})\n",
    "\n",
    "# Drop NaN values and reassign\n",
    "dataLog = dataLog.dropna()\n",
    "\n",
    "# Fit the model\n",
    "lmairbnbPrice = smf.ols('loggrossIncome ~ logairbnbPrice', data=dataLog).fit()\n",
    "\n",
    "# Plotting\n",
    "plt.figure(figsize=(14, 8))\n",
    "plt.plot(dataLog['logairbnbPrice'], dataLog['loggrossIncome'], 'o', label='Data')\n",
    "plt.title('Income Scaling', fontsize=15)\n",
    "plt.xlabel('log(airbnbPrice)')\n",
    "plt.ylabel('log(grossIncome)')\n",
    "plt.plot(dataLog['logairbnbPrice'], lmairbnbPrice.predict(), '-r', label='Fitted Line')\n",
    "plt.legend()\n",
    "\n",
    "plt.show()"
   ]
  },
  {
   "cell_type": "markdown",
   "metadata": {
    "jupyter": {
     "outputs_hidden": false
    }
   },
   "source": [
    "### Correlation Matrix"
   ]
  },
  {
   "cell_type": "code",
   "execution_count": null,
   "metadata": {
    "ExecuteTime": {
     "end_time": "2023-12-11T21:25:37.069853800Z",
     "start_time": "2023-12-11T21:25:37.041298200Z"
    },
    "jupyter": {
     "outputs_hidden": false
    }
   },
   "outputs": [],
   "source": [
    "airbnb.head()"
   ]
  },
  {
   "cell_type": "code",
   "execution_count": null,
   "metadata": {
    "ExecuteTime": {
     "end_time": "2023-12-11T21:25:41.290660200Z",
     "start_time": "2023-12-11T21:25:41.272613900Z"
    },
    "jupyter": {
     "outputs_hidden": false
    }
   },
   "outputs": [],
   "source": [
    "le = preprocessing.LabelEncoder()\n",
    "\n",
    "le.fit(airbnb['neighbourhood_group'])\n",
    "airbnb['neighbourhood_group'] = le.transform(airbnb['neighbourhood_group'])\n",
    "\n",
    "le.fit(airbnb['neighbourhood'])\n",
    "airbnb['neighbourhood'] = le.transform(airbnb['neighbourhood'])\n",
    "\n",
    "le.fit(airbnb['room_type'])\n",
    "airbnb['room_type'] = le.transform(airbnb['room_type'])"
   ]
  },
  {
   "cell_type": "code",
   "execution_count": null,
   "metadata": {
    "ExecuteTime": {
     "end_time": "2023-12-11T21:25:42.914039200Z",
     "start_time": "2023-12-11T21:25:42.859246800Z"
    },
    "jupyter": {
     "outputs_hidden": false
    }
   },
   "outputs": [],
   "source": [
    "airbnb.sort_values('price', ascending=True, inplace=True)"
   ]
  },
  {
   "cell_type": "code",
   "execution_count": null,
   "metadata": {
    "ExecuteTime": {
     "end_time": "2023-12-11T21:25:51.370204200Z",
     "start_time": "2023-12-11T21:25:51.263353800Z"
    },
    "jupyter": {
     "outputs_hidden": false
    }
   },
   "outputs": [],
   "source": [
    "airbnb[\"price\"] = np.log1p(airbnb[\"price\"])\n",
    "X = airbnb.drop(\"price\", axis=1)\n",
    "y = airbnb[\"price\"]\n",
    "X.head()"
   ]
  },
  {
   "cell_type": "code",
   "execution_count": null,
   "metadata": {
    "ExecuteTime": {
     "end_time": "2023-12-11T21:26:10.071348Z",
     "start_time": "2023-12-11T21:26:08.834080400Z"
    },
    "jupyter": {
     "outputs_hidden": false
    }
   },
   "outputs": [],
   "source": [
    "corrmatrix = airbnb.corr()\n",
    "title = 'Correlation matrix of numerical variables'\n",
    "f, ax = plt.subplots(figsize=(15, 12))\n",
    "sns.heatmap(corrmatrix, square=True, annot=True)\n",
    "sns.set(font_scale=0.8)\n",
    "plt.title(title)\n",
    "plt.show()"
   ]
  },
  {
   "cell_type": "code",
   "execution_count": null,
   "metadata": {
    "ExecuteTime": {
     "end_time": "2023-12-11T22:10:46.651105300Z",
     "start_time": "2023-12-11T22:10:46.565056900Z"
    },
    "jupyter": {
     "outputs_hidden": false
    }
   },
   "outputs": [],
   "source": [
    "from sklearn.model_selection import train_test_split\n",
    "\n",
    "X_train, X_temp, y_train, y_temp = train_test_split(X, y, test_size=0.2, random_state=42)\n",
    "\n",
    "X_valid, X_test, y_valid, y_test = train_test_split(X_temp, y_temp, test_size=0.5, random_state=42)\n",
    "\n",
    "X_train = X_train.reset_index(drop=True)\n",
    "X_valid = X_valid.reset_index(drop=True)\n",
    "X_test = X_test.reset_index(drop=True)"
   ]
  },
  {
   "cell_type": "code",
   "execution_count": null,
   "metadata": {
    "ExecuteTime": {
     "end_time": "2023-12-11T21:28:51.372258800Z",
     "start_time": "2023-12-11T21:28:51.291585700Z"
    },
    "jupyter": {
     "outputs_hidden": false
    }
   },
   "outputs": [],
   "source": [
    "from sklearn.preprocessing import StandardScaler\n",
    "\n",
    "scaler = StandardScaler()\n",
    "scaler.fit(X_train.iloc[:, 1:])"
   ]
  },
  {
   "cell_type": "code",
   "execution_count": null,
   "metadata": {
    "ExecuteTime": {
     "end_time": "2023-12-11T21:29:25.044291600Z",
     "start_time": "2023-12-11T21:29:24.971191Z"
    },
    "jupyter": {
     "outputs_hidden": false
    }
   },
   "outputs": [],
   "source": [
    "X_train_scaled = pd.DataFrame(scaler.transform(X_train.iloc[:, 1:]),\n",
    "                              columns=X_train.columns[1:],\n",
    "                              index=X_train.index)\n",
    "X_valid_scaled = pd.DataFrame(scaler.transform(X_valid.iloc[:, 1:]),\n",
    "                              columns=X_valid.columns[1:],\n",
    "                              index=X_valid.index)\n",
    "X_test_scaled = pd.DataFrame(scaler.transform(X_test.iloc[:, 1:]),\n",
    "                             columns=X_test.columns[1:],\n",
    "                             index=X_test.index)"
   ]
  },
  {
   "cell_type": "code",
   "execution_count": null,
   "metadata": {
    "jupyter": {
     "outputs_hidden": false
    }
   },
   "outputs": [],
   "source": [
    "# train Decision Tree regression model\n",
    "decisiontree = DecisionTreeRegressor(max_depth = 10, min_samples_split = 5)\n",
    "decisiontree.fit(X_train, y_train)\n",
    "\n",
    "#evaluating train error\n",
    "mean_absolute_error(y_train,decisiontree.predict(X_train))"
   ]
  },
  {
   "cell_type": "code",
   "execution_count": null,
   "metadata": {
    "ExecuteTime": {
     "end_time": "2023-12-11T21:30:50.467882700Z",
     "start_time": "2023-12-11T21:30:50.404655900Z"
    },
    "jupyter": {
     "outputs_hidden": false
    }
   },
   "outputs": [],
   "source": [
    "#Find the Alpha and report best test performance for Ridge/Lasso.\n",
    "def Regularization_fit_alpha(model, X_train, y_train, X_valid, y_valid, alphas, Graph=False, logl=False):\n",
    "    #model = 1-Ridge, 2-Lasso\n",
    "    #alphas: a list of alpha values to try\n",
    "    #Graph: plot the graph of R^2 values for different alpha\n",
    "\n",
    "    R_2_OS = []  #out of sample R2's\n",
    "    #initialize the model to use for each given alpha\n",
    "    if model == 1:\n",
    "        RM = lambda a: linear_model.Ridge(fit_intercept=True, alpha=a)\n",
    "        model_label = 'Ridge'\n",
    "    else:\n",
    "        RM = lambda a: linear_model.Lasso(fit_intercept=True, alpha=a)\n",
    "        model_label = 'Lasso'\n",
    "\n",
    "    best_R2 = -1\n",
    "    best_alpha = alphas[0]\n",
    "    best_coefs = []\n",
    "\n",
    "    for a in alphas:  #for all alphas to try\n",
    "        lm = RM(a)  #assign the model\n",
    "        lm.fit(X_train, y_train)  #fit the regularization model\n",
    "        y_predict = lm.predict(X_valid)  #compute the prediction for the validation sample\n",
    "        R_2_OS_ = r2_score(y_valid, y_predict)\n",
    "        R_2_OS.append(R_2_OS_)\n",
    "        if R_2_OS_ > best_R2:  #if current OS R2 is the best - update the best solution\n",
    "            best_R2 = R_2_OS_\n",
    "            best_alpha = a\n",
    "            best_coefs = lm.coef_\n",
    "\n",
    "    if Graph == True:  #visualization of the performance depending on alpha\n",
    "        plt.title('OS-R-squared for different Alpha')\n",
    "        if logl:  #log-scale\n",
    "            plt.xlabel('ln(Alpha)')\n",
    "            l = np.log(alphas)\n",
    "            bl = np.log(best_alpha)\n",
    "        else:\n",
    "            plt.xlabel('Alpha')\n",
    "            l = alphas\n",
    "            bl = best_alpha\n",
    "        plt.ylim((-0.1, 1))\n",
    "        plt.plot(l, R_2_OS, 'b', label=model_label)\n",
    "        plt.legend(loc='upper right')\n",
    "        plt.ylabel('R-squared')\n",
    "        plt.axvline(bl, color='r', linestyle='--')\n",
    "\n",
    "        plt.show()\n",
    "\n",
    "    return [best_alpha, best_R2, best_coefs]"
   ]
  },
  {
   "cell_type": "markdown",
   "metadata": {
    "jupyter": {
     "outputs_hidden": false
    }
   },
   "source": [
    "### Lasso Regression"
   ]
  },
  {
   "cell_type": "code",
   "execution_count": null,
   "metadata": {
    "ExecuteTime": {
     "end_time": "2023-12-11T21:45:53.959363600Z",
     "start_time": "2023-12-11T21:44:34.837164800Z"
    },
    "jupyter": {
     "outputs_hidden": false
    }
   },
   "outputs": [],
   "source": [
    "alphas_scaled = np.exp(np.linspace(-5, 10, 10000))  #exponential range of possible alphas\n",
    "[alpha_optimal, best_R2, best_coefs] = Regularization_fit_alpha(2, X_train_scaled.iloc[:, 1:], y_train,\n",
    "                                                                X_valid_scaled.iloc[:, 1:], y_valid,\n",
    "                                                                alphas_scaled,\n",
    "                                                                Graph=True, logl=True)\n",
    "print('Optimal alpha for Lasso={0}, best OS R_2={1}'.format(alpha_optimal, best_R2))"
   ]
  },
  {
   "cell_type": "code",
   "execution_count": null,
   "metadata": {
    "ExecuteTime": {
     "end_time": "2023-12-11T22:22:05.704987100Z",
     "start_time": "2023-12-11T22:22:05.582709400Z"
    },
    "jupyter": {
     "outputs_hidden": false
    }
   },
   "outputs": [],
   "source": [
    "Lasso = linear_model.Lasso(fit_intercept=True, alpha=alpha_optimal)\n",
    "\n",
    "Lasso.fit(X_train_scaled.iloc[:, 1:], y_train)\n",
    "# In sample:\n",
    "YPred_IS_Lasso = Lasso.predict(X_train_scaled.iloc[:, 1:])\n",
    "print(\"The IS R-squared of Lasso is: {0}\".format(r2_score(y_train, YPred_IS_Lasso)))\n",
    "#Out of sample\n",
    "YPred_OS_Lasso = Lasso.predict(X_test_scaled.iloc[:, 1:])\n",
    "print(\"The OS R-squared of Lasso is: {0}\".format(r2_score(y_test, YPred_OS_Lasso)))\n",
    "Lasso.coef_"
   ]
  },
  {
   "cell_type": "code",
   "execution_count": null,
   "metadata": {
    "ExecuteTime": {
     "end_time": "2023-12-11T22:22:20.420816600Z",
     "start_time": "2023-12-11T22:22:19.973843800Z"
    },
    "jupyter": {
     "outputs_hidden": false
    }
   },
   "outputs": [],
   "source": [
    "print(mean_absolute_error(y_test, YPred_OS_Lasso), mean_squared_error(y_test, YPred_OS_Lasso) ** 0.5)\n",
    "\n",
    "plt.scatter(np.arange(len(np.sort(y_test))), np.sort(y_test))\n",
    "plt.scatter(np.arange(len(np.sort(YPred_OS_Lasso))), np.sort(YPred_OS_Lasso))"
   ]
  },
  {
   "cell_type": "markdown",
   "metadata": {
    "jupyter": {
     "outputs_hidden": false
    }
   },
   "source": [
    "### Ridge Regression"
   ]
  },
  {
   "cell_type": "code",
   "execution_count": null,
   "metadata": {
    "ExecuteTime": {
     "end_time": "2023-12-11T22:17:30.420198Z",
     "start_time": "2023-12-11T22:16:19.375962Z"
    },
    "jupyter": {
     "outputs_hidden": false
    }
   },
   "outputs": [],
   "source": [
    "alphas_scaled = np.exp(np.linspace(-5, 10, 10000))  #exponential range of possible alphas\n",
    "[alpha_optimal, best_R2, best_coefs] = Regularization_fit_alpha(1, X_train_scaled.iloc[:, 1:], y_train,\n",
    "                                                                X_valid_scaled.iloc[:, 1:], y_valid,\n",
    "                                                                alphas_scaled,\n",
    "                                                                Graph=True, logl=True)\n",
    "print('Optimal alpha for Ridge={0}, best OS R_2={1}'.format(alpha_optimal, best_R2))"
   ]
  },
  {
   "cell_type": "code",
   "execution_count": null,
   "metadata": {
    "ExecuteTime": {
     "end_time": "2023-12-11T22:22:47.150063200Z",
     "start_time": "2023-12-11T22:22:47.026055200Z"
    },
    "jupyter": {
     "outputs_hidden": false
    }
   },
   "outputs": [],
   "source": [
    "Ridge = linear_model.Ridge(fit_intercept=True, alpha=alpha_optimal)\n",
    "\n",
    "Ridge.fit(X_train_scaled.iloc[:, 1:], y_train)\n",
    "# In sample:\n",
    "YPred_IS_Ridge = Ridge.predict(X_train_scaled.iloc[:, 1:])\n",
    "print(\"The IS R-squared of Lasso is: {0}\".format(r2_score(y_train, YPred_IS_Ridge)))\n",
    "#Out of sample\n",
    "YPred_OS_Ridge = Ridge.predict(X_test_scaled.iloc[:, 1:])\n",
    "print(\"The OS R-squared of Lasso is: {0}\".format(r2_score(y_test, YPred_OS_Ridge)))\n",
    "Ridge.coef_"
   ]
  },
  {
   "cell_type": "code",
   "execution_count": null,
   "metadata": {
    "ExecuteTime": {
     "end_time": "2023-12-11T22:22:48.707548100Z",
     "start_time": "2023-12-11T22:22:48.300847500Z"
    },
    "jupyter": {
     "outputs_hidden": false
    }
   },
   "outputs": [],
   "source": [
    "print(mean_absolute_error(y_test, YPred_OS_Ridge), mean_squared_error(y_test, YPred_OS_Ridge) ** 0.5)\n",
    "\n",
    "plt.scatter(np.arange(len(np.sort(y_test))), np.sort(y_test))\n",
    "plt.scatter(np.arange(len(np.sort(YPred_OS_Ridge))), np.sort(YPred_OS_Ridge))"
   ]
  },
  {
   "cell_type": "code",
   "execution_count": null,
   "metadata": {
    "jupyter": {
     "outputs_hidden": false
    }
   },
   "outputs": [],
   "source": []
  }
 ],
 "metadata": {
  "kernelspec": {
   "display_name": "Python 3 (ipykernel)",
   "language": "python",
   "name": "python3"
  },
  "language_info": {
   "codemirror_mode": {
    "name": "ipython",
    "version": 3
   },
   "file_extension": ".py",
   "mimetype": "text/x-python",
   "name": "python",
   "nbconvert_exporter": "python",
   "pygments_lexer": "ipython3",
   "version": "3.11.5"
  }
 },
 "nbformat": 4,
 "nbformat_minor": 4
}
